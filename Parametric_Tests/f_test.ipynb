{
 "cells": [
  {
   "cell_type": "code",
   "id": "448d68b49bdcc944",
   "metadata": {
    "collapsed": true,
    "ExecuteTime": {
     "end_time": "2024-07-03T04:35:35.493924Z",
     "start_time": "2024-07-03T04:35:35.147508Z"
    }
   },
   "source": [
    "import numpy as np\n",
    "import scipy.stats as stats"
   ],
   "outputs": [],
   "execution_count": 1
  },
  {
   "metadata": {
    "ExecuteTime": {
     "end_time": "2024-07-03T04:35:35.497019Z",
     "start_time": "2024-07-03T04:35:35.495177Z"
    }
   },
   "cell_type": "code",
   "source": [
    "A = [25, 30, 28, 36, 29]\n",
    "B = [45, 55, 29, 56, 40]"
   ],
   "id": "aca7f5d3af4877ca",
   "outputs": [],
   "execution_count": 2
  },
  {
   "metadata": {
    "ExecuteTime": {
     "end_time": "2024-07-03T04:35:35.499240Z",
     "start_time": "2024-07-03T04:35:35.497595Z"
    }
   },
   "cell_type": "code",
   "source": [
    "var_A = np.var(A, ddof=1)\n",
    "var_B = np.var(B, ddof=1)"
   ],
   "id": "e379dd6e7dba6021",
   "outputs": [],
   "execution_count": 3
  },
  {
   "metadata": {
    "ExecuteTime": {
     "end_time": "2024-07-03T04:35:35.501987Z",
     "start_time": "2024-07-03T04:35:35.499877Z"
    }
   },
   "cell_type": "code",
   "source": [
    "f_stat = var_A / var_B\n",
    "df1 = len(A) - 1\n",
    "df2 = len(B) - 1\n",
    "p_value = 2 * min(stats.f.cdf(f_stat, df1, df2), 1 - stats.f.cdf(f_stat, df1, df2))\n",
    "# if one sided\n",
    "# p_value =  stats.f.cdf(f_stat, df1, df2) or 1 - stats.f.cdf(f_stat, df1, df2)"
   ],
   "id": "e704022d6fc480e0",
   "outputs": [],
   "execution_count": 4
  },
  {
   "metadata": {
    "ExecuteTime": {
     "end_time": "2024-07-03T04:35:35.959529Z",
     "start_time": "2024-07-03T04:35:35.957395Z"
    }
   },
   "cell_type": "code",
   "source": [
    "print('f-test')\n",
    "print(f'f-statistic: {f_stat}')\n",
    "print(f'P-value: {p_value}')\n",
    "print(f'df: {len(A)-1} \\n')"
   ],
   "id": "initial_id",
   "outputs": [
    {
     "name": "stdout",
     "output_type": "stream",
     "text": [
      "f-test\n",
      "f-statistic: 0.1298804780876494\n",
      "P-value: 0.07320622141426052\n",
      "df: 4 \n",
      "\n"
     ]
    }
   ],
   "execution_count": 5
  }
 ],
 "metadata": {
  "kernelspec": {
   "display_name": "Python 3",
   "language": "python",
   "name": "python3"
  },
  "language_info": {
   "codemirror_mode": {
    "name": "ipython",
    "version": 2
   },
   "file_extension": ".py",
   "mimetype": "text/x-python",
   "name": "python",
   "nbconvert_exporter": "python",
   "pygments_lexer": "ipython2",
   "version": "2.7.6"
  }
 },
 "nbformat": 4,
 "nbformat_minor": 5
}
