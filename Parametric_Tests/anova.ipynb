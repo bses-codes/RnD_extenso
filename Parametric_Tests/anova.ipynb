{
 "cells": [
  {
   "metadata": {
    "ExecuteTime": {
     "end_time": "2024-07-03T04:35:24.168816Z",
     "start_time": "2024-07-03T04:35:23.638176Z"
    }
   },
   "cell_type": "code",
   "source": [
    "import pandas as pd\n",
    "import scipy.stats as stats"
   ],
   "id": "16777bd7970857c1",
   "outputs": [],
   "execution_count": 1
  },
  {
   "metadata": {
    "ExecuteTime": {
     "end_time": "2024-07-03T04:35:24.172035Z",
     "start_time": "2024-07-03T04:35:24.170004Z"
    }
   },
   "cell_type": "code",
   "source": [
    "A = [25, 30, 28, 36, 29]\n",
    "B = [45, 55, 29, 56, 40]\n",
    "C = [30, 29, 33, 37, 27]\n",
    "D = [54, 60, 51, 62, 73]"
   ],
   "id": "74ab5a81faf1016a",
   "outputs": [],
   "execution_count": 2
  },
  {
   "metadata": {
    "ExecuteTime": {
     "end_time": "2024-07-03T04:35:24.175479Z",
     "start_time": "2024-07-03T04:35:24.172658Z"
    }
   },
   "cell_type": "code",
   "source": [
    "df = pd.DataFrame({'A': A, 'B': B, 'C': C, 'D': D})\n",
    "anova_result = stats.f_oneway(df['A'], df['B'], df['C'], df['D'])"
   ],
   "id": "4d8bdc8beb25a4a",
   "outputs": [],
   "execution_count": 3
  },
  {
   "metadata": {
    "ExecuteTime": {
     "end_time": "2024-07-03T04:35:24.291831Z",
     "start_time": "2024-07-03T04:35:24.289967Z"
    }
   },
   "cell_type": "code",
   "source": [
    "print(f'F-statistic: {anova_result.statistic}')\n",
    "print(f'p-value: {anova_result.pvalue}')"
   ],
   "id": "ec81df447e0811c7",
   "outputs": [
    {
     "name": "stdout",
     "output_type": "stream",
     "text": [
      "F-statistic: 17.492810457516338\n",
      "p-value: 2.639241146210922e-05\n"
     ]
    }
   ],
   "execution_count": 4
  },
  {
   "metadata": {
    "ExecuteTime": {
     "end_time": "2024-07-03T04:35:24.706190Z",
     "start_time": "2024-07-03T04:35:24.703956Z"
    }
   },
   "cell_type": "code",
   "source": [
    "data = A + B + C + D\n",
    "groups = ['A']*len(A) + ['B']*len(B) + ['C']*len(C) + ['D']*len(D)"
   ],
   "id": "1ac22090bfcd3b61",
   "outputs": [],
   "execution_count": 5
  },
  {
   "metadata": {
    "ExecuteTime": {
     "end_time": "2024-07-03T04:35:29.357400Z",
     "start_time": "2024-07-03T04:35:29.353728Z"
    }
   },
   "cell_type": "code",
   "source": "df = pd.DataFrame({'value': data, 'group': groups})",
   "id": "ce75e49c9ff4fb82",
   "outputs": [],
   "execution_count": 7
  },
  {
   "metadata": {
    "ExecuteTime": {
     "end_time": "2024-07-03T04:35:29.768628Z",
     "start_time": "2024-07-03T04:35:29.763177Z"
    }
   },
   "cell_type": "code",
   "source": "df",
   "id": "9ea56154aceaa498",
   "outputs": [
    {
     "data": {
      "text/plain": [
       "    value group\n",
       "0      25     A\n",
       "1      30     A\n",
       "2      28     A\n",
       "3      36     A\n",
       "4      29     A\n",
       "5      45     B\n",
       "6      55     B\n",
       "7      29     B\n",
       "8      56     B\n",
       "9      40     B\n",
       "10     30     C\n",
       "11     29     C\n",
       "12     33     C\n",
       "13     37     C\n",
       "14     27     C\n",
       "15     54     D\n",
       "16     60     D\n",
       "17     51     D\n",
       "18     62     D\n",
       "19     73     D"
      ],
      "text/html": [
       "<div>\n",
       "<style scoped>\n",
       "    .dataframe tbody tr th:only-of-type {\n",
       "        vertical-align: middle;\n",
       "    }\n",
       "\n",
       "    .dataframe tbody tr th {\n",
       "        vertical-align: top;\n",
       "    }\n",
       "\n",
       "    .dataframe thead th {\n",
       "        text-align: right;\n",
       "    }\n",
       "</style>\n",
       "<table border=\"1\" class=\"dataframe\">\n",
       "  <thead>\n",
       "    <tr style=\"text-align: right;\">\n",
       "      <th></th>\n",
       "      <th>value</th>\n",
       "      <th>group</th>\n",
       "    </tr>\n",
       "  </thead>\n",
       "  <tbody>\n",
       "    <tr>\n",
       "      <th>0</th>\n",
       "      <td>25</td>\n",
       "      <td>A</td>\n",
       "    </tr>\n",
       "    <tr>\n",
       "      <th>1</th>\n",
       "      <td>30</td>\n",
       "      <td>A</td>\n",
       "    </tr>\n",
       "    <tr>\n",
       "      <th>2</th>\n",
       "      <td>28</td>\n",
       "      <td>A</td>\n",
       "    </tr>\n",
       "    <tr>\n",
       "      <th>3</th>\n",
       "      <td>36</td>\n",
       "      <td>A</td>\n",
       "    </tr>\n",
       "    <tr>\n",
       "      <th>4</th>\n",
       "      <td>29</td>\n",
       "      <td>A</td>\n",
       "    </tr>\n",
       "    <tr>\n",
       "      <th>5</th>\n",
       "      <td>45</td>\n",
       "      <td>B</td>\n",
       "    </tr>\n",
       "    <tr>\n",
       "      <th>6</th>\n",
       "      <td>55</td>\n",
       "      <td>B</td>\n",
       "    </tr>\n",
       "    <tr>\n",
       "      <th>7</th>\n",
       "      <td>29</td>\n",
       "      <td>B</td>\n",
       "    </tr>\n",
       "    <tr>\n",
       "      <th>8</th>\n",
       "      <td>56</td>\n",
       "      <td>B</td>\n",
       "    </tr>\n",
       "    <tr>\n",
       "      <th>9</th>\n",
       "      <td>40</td>\n",
       "      <td>B</td>\n",
       "    </tr>\n",
       "    <tr>\n",
       "      <th>10</th>\n",
       "      <td>30</td>\n",
       "      <td>C</td>\n",
       "    </tr>\n",
       "    <tr>\n",
       "      <th>11</th>\n",
       "      <td>29</td>\n",
       "      <td>C</td>\n",
       "    </tr>\n",
       "    <tr>\n",
       "      <th>12</th>\n",
       "      <td>33</td>\n",
       "      <td>C</td>\n",
       "    </tr>\n",
       "    <tr>\n",
       "      <th>13</th>\n",
       "      <td>37</td>\n",
       "      <td>C</td>\n",
       "    </tr>\n",
       "    <tr>\n",
       "      <th>14</th>\n",
       "      <td>27</td>\n",
       "      <td>C</td>\n",
       "    </tr>\n",
       "    <tr>\n",
       "      <th>15</th>\n",
       "      <td>54</td>\n",
       "      <td>D</td>\n",
       "    </tr>\n",
       "    <tr>\n",
       "      <th>16</th>\n",
       "      <td>60</td>\n",
       "      <td>D</td>\n",
       "    </tr>\n",
       "    <tr>\n",
       "      <th>17</th>\n",
       "      <td>51</td>\n",
       "      <td>D</td>\n",
       "    </tr>\n",
       "    <tr>\n",
       "      <th>18</th>\n",
       "      <td>62</td>\n",
       "      <td>D</td>\n",
       "    </tr>\n",
       "    <tr>\n",
       "      <th>19</th>\n",
       "      <td>73</td>\n",
       "      <td>D</td>\n",
       "    </tr>\n",
       "  </tbody>\n",
       "</table>\n",
       "</div>"
      ]
     },
     "execution_count": 8,
     "metadata": {},
     "output_type": "execute_result"
    }
   ],
   "execution_count": 8
  },
  {
   "metadata": {
    "ExecuteTime": {
     "end_time": "2024-07-03T04:35:30.370662Z",
     "start_time": "2024-07-03T04:35:30.142379Z"
    }
   },
   "cell_type": "code",
   "source": [
    "import pandas as pd\n",
    "import scipy.stats as stats\n",
    "import statsmodels.api as sm\n",
    "from statsmodels.formula.api import ols\n",
    "\n",
    "A = [25, 30, 28, 36, 29]\n",
    "B = [45, 55, 29, 56, 40]\n",
    "C = [30, 29, 33, 37, 27]\n",
    "D = [54, 60, 51, 62, 73]\n",
    "data = A + B + C + D\n",
    "\n",
    "# Combine data and groups into a DataFrame\n",
    "df = pd.DataFrame({'value': data, 'group': ['A']*len(A) + ['B']*len(B) + ['C']*len(C) + ['D']*len(D)})\n",
    "\n",
    "# Use pandas Series for the categorical variable\n",
    "model = ols('value ~ group', data=df).fit()\n",
    "anova_table = sm.stats.anova_lm(model, typ=2) \n",
    "\n",
    "print(\"Analysis of Variance (ANOVA)\")\n",
    "print(anova_table)\n"
   ],
   "id": "dfeb34d4fc8b00cc",
   "outputs": [
    {
     "name": "stdout",
     "output_type": "stream",
     "text": [
      "Analysis of Variance (ANOVA)\n",
      "           sum_sq    df         F    PR(>F)\n",
      "group     3010.95   3.0  17.49281  0.000026\n",
      "Residual   918.00  16.0       NaN       NaN\n"
     ]
    }
   ],
   "execution_count": 9
  }
 ],
 "metadata": {
  "kernelspec": {
   "display_name": "Python 3",
   "language": "python",
   "name": "python3"
  },
  "language_info": {
   "codemirror_mode": {
    "name": "ipython",
    "version": 2
   },
   "file_extension": ".py",
   "mimetype": "text/x-python",
   "name": "python",
   "nbconvert_exporter": "python",
   "pygments_lexer": "ipython2",
   "version": "2.7.6"
  }
 },
 "nbformat": 4,
 "nbformat_minor": 5
}
