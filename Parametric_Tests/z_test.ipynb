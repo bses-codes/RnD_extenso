{
 "cells": [
  {
   "cell_type": "code",
   "id": "6a283634fe933f01",
   "metadata": {
    "collapsed": true,
    "ExecuteTime": {
     "end_time": "2024-07-03T04:35:45.284831Z",
     "start_time": "2024-07-03T04:35:44.998159Z"
    }
   },
   "source": [
    "import numpy as np\n",
    "from scipy import stats"
   ],
   "outputs": [],
   "execution_count": 1
  },
  {
   "metadata": {
    "ExecuteTime": {
     "end_time": "2024-07-03T04:35:45.288124Z",
     "start_time": "2024-07-03T04:35:45.286197Z"
    }
   },
   "cell_type": "code",
   "source": [
    "population_mean = 98\n",
    "sample_mean = 108\n",
    "population_std = 12\n",
    "sample_size = 25\n",
    "alpha = 0.05"
   ],
   "id": "dd8ecb42d253b68c",
   "outputs": [],
   "execution_count": 2
  },
  {
   "metadata": {
    "ExecuteTime": {
     "end_time": "2024-07-03T04:35:45.290975Z",
     "start_time": "2024-07-03T04:35:45.288801Z"
    }
   },
   "cell_type": "code",
   "source": [
    "Z = (sample_mean - population_mean) / (population_std / np.sqrt(sample_size))\n",
    "p_value = 2 * (1 - stats.norm.cdf(np.abs(Z)))"
   ],
   "id": "9260f78b1230ae8e",
   "outputs": [],
   "execution_count": 3
  },
  {
   "metadata": {
    "ExecuteTime": {
     "end_time": "2024-07-03T04:35:45.560581Z",
     "start_time": "2024-07-03T04:35:45.557381Z"
    }
   },
   "cell_type": "code",
   "source": [
    "print(f\"Z-score: {Z}\")\n",
    "print(f\"P-value: {p_value}\")"
   ],
   "id": "initial_id",
   "outputs": [
    {
     "name": "stdout",
     "output_type": "stream",
     "text": [
      "Z-score: 4.166666666666667\n",
      "P-value: 3.090859376464472e-05\n"
     ]
    }
   ],
   "execution_count": 4
  }
 ],
 "metadata": {
  "kernelspec": {
   "display_name": "Python 3",
   "language": "python",
   "name": "python3"
  },
  "language_info": {
   "codemirror_mode": {
    "name": "ipython",
    "version": 2
   },
   "file_extension": ".py",
   "mimetype": "text/x-python",
   "name": "python",
   "nbconvert_exporter": "python",
   "pygments_lexer": "ipython2",
   "version": "2.7.6"
  }
 },
 "nbformat": 4,
 "nbformat_minor": 5
}
