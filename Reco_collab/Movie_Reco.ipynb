{
 "cells": [
  {
   "metadata": {
    "ExecuteTime": {
     "end_time": "2024-07-16T06:53:56.885493Z",
     "start_time": "2024-07-16T06:53:56.881906Z"
    }
   },
   "cell_type": "code",
   "source": [
    "import networkx as nx\n",
    "from pgmpy.models import BayesianNetwork\n",
    "from pgmpy.factors.discrete import TabularCPD\n",
    "from pgmpy.inference import VariableElimination\n",
    "import numpy as np"
   ],
   "id": "5e54ebe9974004b1",
   "outputs": [],
   "execution_count": 59
  },
  {
   "metadata": {
    "ExecuteTime": {
     "end_time": "2024-07-16T06:53:57.196588Z",
     "start_time": "2024-07-16T06:53:57.192037Z"
    }
   },
   "cell_type": "code",
   "source": [
    "# Step 1: Create a Social Network\n",
    "\n",
    "G = nx.Graph()\n",
    "edges = [\n",
    "    ('Alice', 'Bob'), \n",
    "    ('Alice', 'Charlie'), \n",
    "    ('Bob', 'Dave'), \n",
    "    ('Charlie', 'Eve'), \n",
    "    ('Dave', 'Eve'),\n",
    "    ('Alice', 'Frank'),\n",
    "    ('Frank', 'Grace'),\n",
    "    ('Grace', 'Hannah'),\n",
    "    ('Dave', 'Hannah')\n",
    "]\n",
    "G.add_edges_from(edges)\n",
    "\n",
    "\n",
    "user_ratings = {\n",
    "    'Alice': {'Movie1': 5, 'Movie2': 1},\n",
    "    'Bob': {'Movie1': 4},\n",
    "    'Charlie': {'Movie2': 4, 'Movie3': 5},\n",
    "    'Dave': {'Movie1': 3, 'Movie3': 3},\n",
    "    'Eve': {'Movie2': 4},\n",
    "    'Frank': {'Movie1': 2, 'Movie2': 3},\n",
    "    'Grace': {'Movie2': 5, 'Movie3': 2},\n",
    "    'Hannah': {'Movie1': 4, 'Movie2': 2, 'Movie3': 5}\n",
    "}\n"
   ],
   "id": "3afb3a31a12ba193",
   "outputs": [],
   "execution_count": 60
  },
  {
   "metadata": {
    "ExecuteTime": {
     "end_time": "2024-07-16T06:53:57.585047Z",
     "start_time": "2024-07-16T06:53:57.583184Z"
    }
   },
   "cell_type": "code",
   "source": [
    "# Step 3: Compute Conditional Distributions\n",
    "\n",
    "# def estimate_P_u_given_v(rating_u, rating_v):\n",
    "#     if rating_v is None or rating_u is None:\n",
    "#         return np.random.random()\n",
    "#     return 1.0 - abs(rating_u - rating_v) / 5.0\n",
    "# \n",
    "# conditional_distributions = {}\n",
    "# for (u, v) in G.edges():\n",
    "#     ratings_u = user_ratings.get(u, {})\n",
    "#     ratings_v = user_ratings.get(v, {})\n",
    "#     for movie in set(ratings_u.keys()).union(ratings_v.keys()):\n",
    "#         P_u_given_v = estimate_P_u_given_v(ratings_u.get(movie), ratings_v.get(movie))\n",
    "#         P_v_given_u = estimate_P_u_given_v(ratings_v.get(movie), ratings_u.get(movie))\n",
    "#         conditional_distributions[(u, v, movie)] = P_u_given_v\n",
    "#         conditional_distributions[(v, u, movie)] = P_v_given_u"
   ],
   "id": "8c7ead49306c73ee",
   "outputs": [],
   "execution_count": 61
  },
  {
   "metadata": {
    "ExecuteTime": {
     "end_time": "2024-07-16T06:53:57.979141Z",
     "start_time": "2024-07-16T06:53:57.976121Z"
    }
   },
   "cell_type": "code",
   "source": [
    "# Step 4: Query Handling\n",
    "def handle_query(user, movie, visited=None, depth=0):\n",
    "    if visited is None:\n",
    "        visited = set()\n",
    "    visited.add(user)\n",
    "    \n",
    "    # Check if the user has rated the movie\n",
    "    if movie in user_ratings.get(user, {}):\n",
    "        return user_ratings[user][movie]\n",
    "    \n",
    "    closest_friends = list(G.neighbors(user))\n",
    "    ratings = []\n",
    "    \n",
    "    for friend in closest_friends:\n",
    "        if friend not in visited:\n",
    "            if movie in user_ratings.get(friend, {}):\n",
    "                weight = max(0, 1 - 0.25 * depth)\n",
    "                ratings.append((user_ratings[friend][movie], weight))\n",
    "            else:\n",
    "                rating = handle_query(friend, movie, visited, depth + 1)\n",
    "                if rating is not None:\n",
    "                    weight = max(0, 1 - 0.25 * (depth + 1))\n",
    "                    ratings.append((rating, weight))\n",
    "    \n",
    "    # Return the weighted average rating\n",
    "    if ratings:\n",
    "        total_weight = sum(weight for _, weight in ratings)\n",
    "        weighted_average = sum(rating * weight for rating, weight in ratings) / total_weight\n",
    "        return weighted_average\n",
    "    \n",
    "    return None\n"
   ],
   "id": "10aa2311d59b325c",
   "outputs": [],
   "execution_count": 62
  },
  {
   "metadata": {
    "ExecuteTime": {
     "end_time": "2024-07-16T06:53:58.417989Z",
     "start_time": "2024-07-16T06:53:58.413893Z"
    }
   },
   "cell_type": "code",
   "source": [
    "# Step 5: Bayesian Network\n",
    "\n",
    "model = BayesianNetwork([\n",
    "    ('Alice', 'Bob'), \n",
    "    ('Alice', 'Charlie'), \n",
    "    ('Bob', 'Dave'), \n",
    "    ('Charlie', 'Eve'), \n",
    "    ('Dave', 'Eve'),\n",
    "    ('Alice', 'Frank'),\n",
    "    ('Frank', 'Grace'),\n",
    "    ('Grace', 'Hannah'),\n",
    "    ('Dave', 'Hannah')\n",
    "])\n",
    "\n",
    "# Adding CPDs\n",
    "cpd_alice = TabularCPD(variable='Alice', variable_card=2, values=[[0.5], [0.5]])\n",
    "cpd_bob = TabularCPD(variable='Bob', variable_card=2, values=[[0.7, 0.2], [0.3, 0.8]], evidence=['Alice'], evidence_card=[2])\n",
    "cpd_charlie = TabularCPD(variable='Charlie', variable_card=2, values=[[0.8, 0.4], [0.2, 0.6]], evidence=['Alice'], evidence_card=[2])\n",
    "cpd_dave = TabularCPD(variable='Dave', variable_card=2, values=[[0.6, 0.3], [0.4, 0.7]], evidence=['Bob'], evidence_card=[2])\n",
    "cpd_eve = TabularCPD(variable='Eve', variable_card=2, values=[[0.9, 0.6, 0.5, 0.3], [0.1, 0.4, 0.5, 0.7]], evidence=['Charlie', 'Dave'], evidence_card=[2, 2])\n",
    "cpd_frank = TabularCPD(variable='Frank', variable_card=2, values=[[0.4, 0.1], [0.6, 0.9]], evidence=['Alice'], evidence_card=[2])\n",
    "cpd_grace = TabularCPD(variable='Grace', variable_card=2, values=[[0.5, 0.7], [0.5, 0.3]], evidence=['Frank'], evidence_card=[2])\n",
    "cpd_hannah = TabularCPD(variable='Hannah', variable_card=2, values=[[0.7, 0.4, 0.6, 0.2], [0.3, 0.6, 0.4, 0.8]], evidence=['Grace', 'Dave'], evidence_card=[2, 2])\n",
    "\n",
    "\n",
    "model.add_cpds(cpd_alice, cpd_bob, cpd_charlie, cpd_dave, cpd_eve, cpd_frank, cpd_grace, cpd_hannah)"
   ],
   "id": "686fa2ac233e891d",
   "outputs": [],
   "execution_count": 63
  },
  {
   "metadata": {
    "ExecuteTime": {
     "end_time": "2024-07-16T06:53:58.957052Z",
     "start_time": "2024-07-16T06:53:58.953936Z"
    }
   },
   "cell_type": "code",
   "source": [
    "# Check model validity\n",
    "model.check_model()"
   ],
   "id": "b51aa7c44f9f27a7",
   "outputs": [
    {
     "data": {
      "text/plain": [
       "True"
      ]
     },
     "execution_count": 64,
     "metadata": {},
     "output_type": "execute_result"
    }
   ],
   "execution_count": 64
  },
  {
   "metadata": {
    "ExecuteTime": {
     "end_time": "2024-07-16T06:53:59.340278Z",
     "start_time": "2024-07-16T06:53:59.338117Z"
    }
   },
   "cell_type": "code",
   "source": [
    "# Perform inference\n",
    "inference = VariableElimination(model)"
   ],
   "id": "d8d0812ba4c28789",
   "outputs": [],
   "execution_count": 65
  },
  {
   "metadata": {
    "ExecuteTime": {
     "end_time": "2024-07-16T06:53:59.659989Z",
     "start_time": "2024-07-16T06:53:59.657493Z"
    }
   },
   "cell_type": "code",
   "source": [
    "def infer_recommendation_score(user, movie):\n",
    "    query_result = inference.map_query(variables=[user])\n",
    "    return query_result[user]"
   ],
   "id": "63b428c90a3aff66",
   "outputs": [],
   "execution_count": 66
  },
  {
   "metadata": {
    "ExecuteTime": {
     "end_time": "2024-07-16T06:54:20.604665Z",
     "start_time": "2024-07-16T06:54:20.602568Z"
    }
   },
   "cell_type": "code",
   "source": [
    "# Query Recommendation Score\n",
    "\n",
    "querying_user = 'Bob'\n",
    "movie = 'Movie3'\n",
    "rating = handle_query(querying_user, movie)\n",
    "if rating is None:\n",
    "    recommendation_score = infer_recommendation_score(querying_user, movie)\n",
    "    print(f\"Recommendation score for {querying_user} to watch {movie}: {recommendation_score}\")\n",
    "else:\n",
    "    print(f\"{querying_user} received rating for {movie}: {rating}\")"
   ],
   "id": "c75eb091be4d18f",
   "outputs": [
    {
     "name": "stdout",
     "output_type": "stream",
     "text": [
      "Bob received rating for Movie3: 3.3428571428571425\n"
     ]
    }
   ],
   "execution_count": 68
  },
  {
   "metadata": {},
   "cell_type": "code",
   "outputs": [],
   "execution_count": null,
   "source": "",
   "id": "38b3a88a71007942"
  }
 ],
 "metadata": {
  "kernelspec": {
   "display_name": "Python 3",
   "language": "python",
   "name": "python3"
  },
  "language_info": {
   "codemirror_mode": {
    "name": "ipython",
    "version": 2
   },
   "file_extension": ".py",
   "mimetype": "text/x-python",
   "name": "python",
   "nbconvert_exporter": "python",
   "pygments_lexer": "ipython2",
   "version": "2.7.6"
  }
 },
 "nbformat": 4,
 "nbformat_minor": 5
}
