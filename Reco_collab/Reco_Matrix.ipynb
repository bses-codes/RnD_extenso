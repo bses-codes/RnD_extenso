{
 "cells": [
  {
   "cell_type": "code",
   "id": "initial_id",
   "metadata": {
    "collapsed": true,
    "ExecuteTime": {
     "end_time": "2024-07-14T07:05:21.806622Z",
     "start_time": "2024-07-14T07:05:21.240159Z"
    }
   },
   "source": [
    "import pandas as pd\n",
    "from scipy import sparse \n",
    "from sklearn.metrics.pairwise import cosine_similarity"
   ],
   "outputs": [],
   "execution_count": 1
  },
  {
   "metadata": {
    "ExecuteTime": {
     "end_time": "2024-07-14T07:05:21.830380Z",
     "start_time": "2024-07-14T07:05:21.815833Z"
    }
   },
   "cell_type": "code",
   "source": [
    "ratings = pd.read_csv('dataset.csv', index_col=0)\n",
    "ratings"
   ],
   "id": "13983664bb2198d2",
   "outputs": [
    {
     "data": {
      "text/plain": [
       "        action1  action2  action3  romantic1  romantic2  romantic3\n",
       "user 1      4.0      5.0      3.0        NaN        2.0        1.0\n",
       "user 2      5.0      3.0      3.0        2.0        2.0        NaN\n",
       "user 3      1.0      NaN      NaN        4.0        5.0        4.0\n",
       "user 4      NaN      2.0      1.0        4.0        NaN        3.0\n",
       "user 5      1.0      NaN      2.0        3.0        3.0        4.0"
      ],
      "text/html": [
       "<div>\n",
       "<style scoped>\n",
       "    .dataframe tbody tr th:only-of-type {\n",
       "        vertical-align: middle;\n",
       "    }\n",
       "\n",
       "    .dataframe tbody tr th {\n",
       "        vertical-align: top;\n",
       "    }\n",
       "\n",
       "    .dataframe thead th {\n",
       "        text-align: right;\n",
       "    }\n",
       "</style>\n",
       "<table border=\"1\" class=\"dataframe\">\n",
       "  <thead>\n",
       "    <tr style=\"text-align: right;\">\n",
       "      <th></th>\n",
       "      <th>action1</th>\n",
       "      <th>action2</th>\n",
       "      <th>action3</th>\n",
       "      <th>romantic1</th>\n",
       "      <th>romantic2</th>\n",
       "      <th>romantic3</th>\n",
       "    </tr>\n",
       "  </thead>\n",
       "  <tbody>\n",
       "    <tr>\n",
       "      <th>user 1</th>\n",
       "      <td>4.0</td>\n",
       "      <td>5.0</td>\n",
       "      <td>3.0</td>\n",
       "      <td>NaN</td>\n",
       "      <td>2.0</td>\n",
       "      <td>1.0</td>\n",
       "    </tr>\n",
       "    <tr>\n",
       "      <th>user 2</th>\n",
       "      <td>5.0</td>\n",
       "      <td>3.0</td>\n",
       "      <td>3.0</td>\n",
       "      <td>2.0</td>\n",
       "      <td>2.0</td>\n",
       "      <td>NaN</td>\n",
       "    </tr>\n",
       "    <tr>\n",
       "      <th>user 3</th>\n",
       "      <td>1.0</td>\n",
       "      <td>NaN</td>\n",
       "      <td>NaN</td>\n",
       "      <td>4.0</td>\n",
       "      <td>5.0</td>\n",
       "      <td>4.0</td>\n",
       "    </tr>\n",
       "    <tr>\n",
       "      <th>user 4</th>\n",
       "      <td>NaN</td>\n",
       "      <td>2.0</td>\n",
       "      <td>1.0</td>\n",
       "      <td>4.0</td>\n",
       "      <td>NaN</td>\n",
       "      <td>3.0</td>\n",
       "    </tr>\n",
       "    <tr>\n",
       "      <th>user 5</th>\n",
       "      <td>1.0</td>\n",
       "      <td>NaN</td>\n",
       "      <td>2.0</td>\n",
       "      <td>3.0</td>\n",
       "      <td>3.0</td>\n",
       "      <td>4.0</td>\n",
       "    </tr>\n",
       "  </tbody>\n",
       "</table>\n",
       "</div>"
      ]
     },
     "execution_count": 2,
     "metadata": {},
     "output_type": "execute_result"
    }
   ],
   "execution_count": 2
  },
  {
   "metadata": {
    "ExecuteTime": {
     "end_time": "2024-07-14T07:05:22.634931Z",
     "start_time": "2024-07-14T07:05:22.631186Z"
    }
   },
   "cell_type": "code",
   "source": "ratings.fillna(0, inplace=True)",
   "id": "8473dc6279cd09c4",
   "outputs": [],
   "execution_count": 3
  },
  {
   "metadata": {
    "ExecuteTime": {
     "end_time": "2024-07-14T07:05:23.014916Z",
     "start_time": "2024-07-14T07:05:23.010171Z"
    }
   },
   "cell_type": "code",
   "source": [
    "def standardize(row):\n",
    "    new_row = (row-row.mean())/(row.max()-row.min())\n",
    "    return new_row\n",
    "\n",
    "ratings_std = ratings.apply(standardize)"
   ],
   "id": "6c3289aee8fc9bbb",
   "outputs": [],
   "execution_count": 4
  },
  {
   "metadata": {
    "ExecuteTime": {
     "end_time": "2024-07-14T07:05:23.356454Z",
     "start_time": "2024-07-14T07:05:23.349024Z"
    }
   },
   "cell_type": "code",
   "source": "ratings_std",
   "id": "c8c408e1b1ed690c",
   "outputs": [
    {
     "data": {
      "text/plain": [
       "        action1  action2   action3  romantic1  romantic2  romantic3\n",
       "user 1     0.36      0.6  0.400000      -0.65      -0.08      -0.35\n",
       "user 2     0.56      0.2  0.400000      -0.15      -0.08      -0.60\n",
       "user 3    -0.24     -0.4 -0.600000       0.35       0.52       0.40\n",
       "user 4    -0.44      0.0 -0.266667       0.35      -0.48       0.15\n",
       "user 5    -0.24     -0.4  0.066667       0.10       0.12       0.40"
      ],
      "text/html": [
       "<div>\n",
       "<style scoped>\n",
       "    .dataframe tbody tr th:only-of-type {\n",
       "        vertical-align: middle;\n",
       "    }\n",
       "\n",
       "    .dataframe tbody tr th {\n",
       "        vertical-align: top;\n",
       "    }\n",
       "\n",
       "    .dataframe thead th {\n",
       "        text-align: right;\n",
       "    }\n",
       "</style>\n",
       "<table border=\"1\" class=\"dataframe\">\n",
       "  <thead>\n",
       "    <tr style=\"text-align: right;\">\n",
       "      <th></th>\n",
       "      <th>action1</th>\n",
       "      <th>action2</th>\n",
       "      <th>action3</th>\n",
       "      <th>romantic1</th>\n",
       "      <th>romantic2</th>\n",
       "      <th>romantic3</th>\n",
       "    </tr>\n",
       "  </thead>\n",
       "  <tbody>\n",
       "    <tr>\n",
       "      <th>user 1</th>\n",
       "      <td>0.36</td>\n",
       "      <td>0.6</td>\n",
       "      <td>0.400000</td>\n",
       "      <td>-0.65</td>\n",
       "      <td>-0.08</td>\n",
       "      <td>-0.35</td>\n",
       "    </tr>\n",
       "    <tr>\n",
       "      <th>user 2</th>\n",
       "      <td>0.56</td>\n",
       "      <td>0.2</td>\n",
       "      <td>0.400000</td>\n",
       "      <td>-0.15</td>\n",
       "      <td>-0.08</td>\n",
       "      <td>-0.60</td>\n",
       "    </tr>\n",
       "    <tr>\n",
       "      <th>user 3</th>\n",
       "      <td>-0.24</td>\n",
       "      <td>-0.4</td>\n",
       "      <td>-0.600000</td>\n",
       "      <td>0.35</td>\n",
       "      <td>0.52</td>\n",
       "      <td>0.40</td>\n",
       "    </tr>\n",
       "    <tr>\n",
       "      <th>user 4</th>\n",
       "      <td>-0.44</td>\n",
       "      <td>0.0</td>\n",
       "      <td>-0.266667</td>\n",
       "      <td>0.35</td>\n",
       "      <td>-0.48</td>\n",
       "      <td>0.15</td>\n",
       "    </tr>\n",
       "    <tr>\n",
       "      <th>user 5</th>\n",
       "      <td>-0.24</td>\n",
       "      <td>-0.4</td>\n",
       "      <td>0.066667</td>\n",
       "      <td>0.10</td>\n",
       "      <td>0.12</td>\n",
       "      <td>0.40</td>\n",
       "    </tr>\n",
       "  </tbody>\n",
       "</table>\n",
       "</div>"
      ]
     },
     "execution_count": 5,
     "metadata": {},
     "output_type": "execute_result"
    }
   ],
   "execution_count": 5
  },
  {
   "metadata": {
    "ExecuteTime": {
     "end_time": "2024-07-14T07:05:23.762917Z",
     "start_time": "2024-07-14T07:05:23.759903Z"
    }
   },
   "cell_type": "code",
   "source": [
    "similarity = cosine_similarity(ratings_std.values.T)\n",
    "similarity"
   ],
   "id": "3fdd11c3de430f07",
   "outputs": [
    {
     "data": {
      "text/plain": [
       "array([[ 1.        ,  0.70668875,  0.81368151, -0.79941088, -0.02539184,\n",
       "        -0.91410609],\n",
       "       [ 0.70668875,  1.        ,  0.72310153, -0.84515425, -0.5189993 ,\n",
       "        -0.84337386],\n",
       "       [ 0.81368151,  0.72310153,  1.        , -0.84794611, -0.3799803 ,\n",
       "        -0.80218063],\n",
       "       [-0.79941088, -0.84515425, -0.84794611,  1.        ,  0.14803913,\n",
       "         0.72374686],\n",
       "       [-0.02539184, -0.5189993 , -0.3799803 ,  0.14803913,  1.        ,\n",
       "         0.39393939],\n",
       "       [-0.91410609, -0.84337386, -0.80218063,  0.72374686,  0.39393939,\n",
       "         1.        ]])"
      ]
     },
     "execution_count": 6,
     "metadata": {},
     "output_type": "execute_result"
    }
   ],
   "execution_count": 6
  },
  {
   "metadata": {
    "ExecuteTime": {
     "end_time": "2024-07-14T07:05:24.128916Z",
     "start_time": "2024-07-14T07:05:24.120129Z"
    }
   },
   "cell_type": "code",
   "source": [
    "similarity_df = pd.DataFrame(similarity, index = ratings.columns, columns = ratings.columns)\n",
    "similarity_df"
   ],
   "id": "327d0504136e5b2d",
   "outputs": [
    {
     "data": {
      "text/plain": [
       "            action1   action2   action3  romantic1  romantic2  romantic3\n",
       "action1    1.000000  0.706689  0.813682  -0.799411  -0.025392  -0.914106\n",
       "action2    0.706689  1.000000  0.723102  -0.845154  -0.518999  -0.843374\n",
       "action3    0.813682  0.723102  1.000000  -0.847946  -0.379980  -0.802181\n",
       "romantic1 -0.799411 -0.845154 -0.847946   1.000000   0.148039   0.723747\n",
       "romantic2 -0.025392 -0.518999 -0.379980   0.148039   1.000000   0.393939\n",
       "romantic3 -0.914106 -0.843374 -0.802181   0.723747   0.393939   1.000000"
      ],
      "text/html": [
       "<div>\n",
       "<style scoped>\n",
       "    .dataframe tbody tr th:only-of-type {\n",
       "        vertical-align: middle;\n",
       "    }\n",
       "\n",
       "    .dataframe tbody tr th {\n",
       "        vertical-align: top;\n",
       "    }\n",
       "\n",
       "    .dataframe thead th {\n",
       "        text-align: right;\n",
       "    }\n",
       "</style>\n",
       "<table border=\"1\" class=\"dataframe\">\n",
       "  <thead>\n",
       "    <tr style=\"text-align: right;\">\n",
       "      <th></th>\n",
       "      <th>action1</th>\n",
       "      <th>action2</th>\n",
       "      <th>action3</th>\n",
       "      <th>romantic1</th>\n",
       "      <th>romantic2</th>\n",
       "      <th>romantic3</th>\n",
       "    </tr>\n",
       "  </thead>\n",
       "  <tbody>\n",
       "    <tr>\n",
       "      <th>action1</th>\n",
       "      <td>1.000000</td>\n",
       "      <td>0.706689</td>\n",
       "      <td>0.813682</td>\n",
       "      <td>-0.799411</td>\n",
       "      <td>-0.025392</td>\n",
       "      <td>-0.914106</td>\n",
       "    </tr>\n",
       "    <tr>\n",
       "      <th>action2</th>\n",
       "      <td>0.706689</td>\n",
       "      <td>1.000000</td>\n",
       "      <td>0.723102</td>\n",
       "      <td>-0.845154</td>\n",
       "      <td>-0.518999</td>\n",
       "      <td>-0.843374</td>\n",
       "    </tr>\n",
       "    <tr>\n",
       "      <th>action3</th>\n",
       "      <td>0.813682</td>\n",
       "      <td>0.723102</td>\n",
       "      <td>1.000000</td>\n",
       "      <td>-0.847946</td>\n",
       "      <td>-0.379980</td>\n",
       "      <td>-0.802181</td>\n",
       "    </tr>\n",
       "    <tr>\n",
       "      <th>romantic1</th>\n",
       "      <td>-0.799411</td>\n",
       "      <td>-0.845154</td>\n",
       "      <td>-0.847946</td>\n",
       "      <td>1.000000</td>\n",
       "      <td>0.148039</td>\n",
       "      <td>0.723747</td>\n",
       "    </tr>\n",
       "    <tr>\n",
       "      <th>romantic2</th>\n",
       "      <td>-0.025392</td>\n",
       "      <td>-0.518999</td>\n",
       "      <td>-0.379980</td>\n",
       "      <td>0.148039</td>\n",
       "      <td>1.000000</td>\n",
       "      <td>0.393939</td>\n",
       "    </tr>\n",
       "    <tr>\n",
       "      <th>romantic3</th>\n",
       "      <td>-0.914106</td>\n",
       "      <td>-0.843374</td>\n",
       "      <td>-0.802181</td>\n",
       "      <td>0.723747</td>\n",
       "      <td>0.393939</td>\n",
       "      <td>1.000000</td>\n",
       "    </tr>\n",
       "  </tbody>\n",
       "</table>\n",
       "</div>"
      ]
     },
     "execution_count": 7,
     "metadata": {},
     "output_type": "execute_result"
    }
   ],
   "execution_count": 7
  },
  {
   "metadata": {
    "ExecuteTime": {
     "end_time": "2024-07-14T07:05:24.462228Z",
     "start_time": "2024-07-14T07:05:24.459952Z"
    }
   },
   "cell_type": "code",
   "source": [
    "def get_similarities(movie_name,movie_rating):\n",
    "    similar_score = similarity_df[movie_name] * (movie_rating-2.5)\n",
    "    similar_score = similar_score.sort_values(ascending=False)\n",
    "    return similar_score"
   ],
   "id": "6e7456a89db9f68f",
   "outputs": [],
   "execution_count": 8
  },
  {
   "metadata": {
    "ExecuteTime": {
     "end_time": "2024-07-14T07:05:24.824301Z",
     "start_time": "2024-07-14T07:05:24.821577Z"
    }
   },
   "cell_type": "code",
   "source": "print(get_similarities('action1', 5))",
   "id": "80bea248b0f0520f",
   "outputs": [
    {
     "name": "stdout",
     "output_type": "stream",
     "text": [
      "action1      2.500000\n",
      "action3      2.034204\n",
      "action2      1.766722\n",
      "romantic2   -0.063480\n",
      "romantic1   -1.998527\n",
      "romantic3   -2.285265\n",
      "Name: action1, dtype: float64\n"
     ]
    }
   ],
   "execution_count": 9
  },
  {
   "metadata": {
    "ExecuteTime": {
     "end_time": "2024-07-14T07:05:25.158559Z",
     "start_time": "2024-07-14T07:05:25.155423Z"
    }
   },
   "cell_type": "code",
   "source": "print(get_similarities('romantic1', 1))",
   "id": "8736335b2ff6525b",
   "outputs": [
    {
     "name": "stdout",
     "output_type": "stream",
     "text": [
      "action3      1.271919\n",
      "action2      1.267731\n",
      "action1      1.199116\n",
      "romantic2   -0.222059\n",
      "romantic3   -1.085620\n",
      "romantic1   -1.500000\n",
      "Name: romantic1, dtype: float64\n"
     ]
    }
   ],
   "execution_count": 10
  },
  {
   "metadata": {
    "ExecuteTime": {
     "end_time": "2024-07-14T07:05:25.500404Z",
     "start_time": "2024-07-14T07:05:25.497504Z"
    }
   },
   "cell_type": "code",
   "source": [
    "action_lover = [('action1',5),('romantic2',1),('romantic3',1)]\n",
    "\n",
    "similar_movies_list = []"
   ],
   "id": "470e461bf359e4ea",
   "outputs": [],
   "execution_count": 11
  },
  {
   "metadata": {
    "ExecuteTime": {
     "end_time": "2024-07-14T07:05:25.915219Z",
     "start_time": "2024-07-14T07:05:25.911592Z"
    }
   },
   "cell_type": "code",
   "source": [
    "for movie,rating in action_lover:\n",
    "    similar_movies_list.append(get_similarities(movie,rating))\n",
    "    \n",
    "similar_movies = pd.concat(similar_movies_list)\n",
    "\n",
    "similar_movies"
   ],
   "id": "fcb258668a8806b7",
   "outputs": [
    {
     "data": {
      "text/plain": [
       "action1      2.500000\n",
       "action3      2.034204\n",
       "action2      1.766722\n",
       "romantic2   -0.063480\n",
       "romantic1   -1.998527\n",
       "romantic3   -2.285265\n",
       "action2      0.778499\n",
       "action3      0.569970\n",
       "action1      0.038088\n",
       "romantic1   -0.222059\n",
       "romantic3   -0.590909\n",
       "romantic2   -1.500000\n",
       "action1      1.371159\n",
       "action2      1.265061\n",
       "action3      1.203271\n",
       "romantic2   -0.590909\n",
       "romantic1   -1.085620\n",
       "romantic3   -1.500000\n",
       "dtype: float64"
      ]
     },
     "execution_count": 12,
     "metadata": {},
     "output_type": "execute_result"
    }
   ],
   "execution_count": 12
  },
  {
   "metadata": {
    "ExecuteTime": {
     "end_time": "2024-07-14T07:08:05.108112Z",
     "start_time": "2024-07-14T07:08:05.101221Z"
    }
   },
   "cell_type": "code",
   "source": [
    "action_lover = [('action1', 5), ('romantic2', 1), ('romantic3', 1)]\n",
    "\n",
    "similar_movies_dict = {}\n",
    "\n",
    "for movie, rating in action_lover:\n",
    "    similar_movies_dict[movie] = get_similarities(movie, rating)\n",
    "\n",
    "\n",
    "similar_movies = pd.DataFrame.from_dict(similar_movies_dict, orient='index')\n",
    "\n",
    "similar_movies"
   ],
   "id": "41527b3afb6f6767",
   "outputs": [
    {
     "data": {
      "text/plain": [
       "            action1   action3   action2  romantic2  romantic1  romantic3\n",
       "action1    2.500000  2.034204  1.766722  -0.063480  -1.998527  -2.285265\n",
       "romantic2  0.038088  0.569970  0.778499  -1.500000  -0.222059  -0.590909\n",
       "romantic3  1.371159  1.203271  1.265061  -0.590909  -1.085620  -1.500000"
      ],
      "text/html": [
       "<div>\n",
       "<style scoped>\n",
       "    .dataframe tbody tr th:only-of-type {\n",
       "        vertical-align: middle;\n",
       "    }\n",
       "\n",
       "    .dataframe tbody tr th {\n",
       "        vertical-align: top;\n",
       "    }\n",
       "\n",
       "    .dataframe thead th {\n",
       "        text-align: right;\n",
       "    }\n",
       "</style>\n",
       "<table border=\"1\" class=\"dataframe\">\n",
       "  <thead>\n",
       "    <tr style=\"text-align: right;\">\n",
       "      <th></th>\n",
       "      <th>action1</th>\n",
       "      <th>action3</th>\n",
       "      <th>action2</th>\n",
       "      <th>romantic2</th>\n",
       "      <th>romantic1</th>\n",
       "      <th>romantic3</th>\n",
       "    </tr>\n",
       "  </thead>\n",
       "  <tbody>\n",
       "    <tr>\n",
       "      <th>action1</th>\n",
       "      <td>2.500000</td>\n",
       "      <td>2.034204</td>\n",
       "      <td>1.766722</td>\n",
       "      <td>-0.063480</td>\n",
       "      <td>-1.998527</td>\n",
       "      <td>-2.285265</td>\n",
       "    </tr>\n",
       "    <tr>\n",
       "      <th>romantic2</th>\n",
       "      <td>0.038088</td>\n",
       "      <td>0.569970</td>\n",
       "      <td>0.778499</td>\n",
       "      <td>-1.500000</td>\n",
       "      <td>-0.222059</td>\n",
       "      <td>-0.590909</td>\n",
       "    </tr>\n",
       "    <tr>\n",
       "      <th>romantic3</th>\n",
       "      <td>1.371159</td>\n",
       "      <td>1.203271</td>\n",
       "      <td>1.265061</td>\n",
       "      <td>-0.590909</td>\n",
       "      <td>-1.085620</td>\n",
       "      <td>-1.500000</td>\n",
       "    </tr>\n",
       "  </tbody>\n",
       "</table>\n",
       "</div>"
      ]
     },
     "execution_count": 13,
     "metadata": {},
     "output_type": "execute_result"
    }
   ],
   "execution_count": 13
  },
  {
   "metadata": {
    "ExecuteTime": {
     "end_time": "2024-07-14T07:10:04.980190Z",
     "start_time": "2024-07-14T07:10:04.975417Z"
    }
   },
   "cell_type": "code",
   "source": " similar_movies.sum().sort_values(ascending=False)",
   "id": "d4177e11477baab0",
   "outputs": [
    {
     "data": {
      "text/plain": [
       "action1      3.909247\n",
       "action2      3.810282\n",
       "action3      3.807445\n",
       "romantic2   -2.154389\n",
       "romantic1   -3.306206\n",
       "romantic3   -4.376174\n",
       "dtype: float64"
      ]
     },
     "execution_count": 15,
     "metadata": {},
     "output_type": "execute_result"
    }
   ],
   "execution_count": 15
  }
 ],
 "metadata": {
  "kernelspec": {
   "display_name": "Python 3",
   "language": "python",
   "name": "python3"
  },
  "language_info": {
   "codemirror_mode": {
    "name": "ipython",
    "version": 2
   },
   "file_extension": ".py",
   "mimetype": "text/x-python",
   "name": "python",
   "nbconvert_exporter": "python",
   "pygments_lexer": "ipython2",
   "version": "2.7.6"
  }
 },
 "nbformat": 4,
 "nbformat_minor": 5
}
