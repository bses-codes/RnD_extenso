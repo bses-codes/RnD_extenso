{
 "cells": [
  {
   "cell_type": "code",
   "id": "b7bb10c46f4e5728",
   "metadata": {
    "collapsed": true,
    "ExecuteTime": {
     "end_time": "2024-07-14T07:35:00.092885Z",
     "start_time": "2024-07-14T07:35:00.089797Z"
    }
   },
   "source": [
    "import numpy as np\n",
    "from scipy.sparse.linalg import svds"
   ],
   "outputs": [],
   "execution_count": 24
  },
  {
   "metadata": {
    "ExecuteTime": {
     "end_time": "2024-07-14T07:35:00.613804Z",
     "start_time": "2024-07-14T07:35:00.610111Z"
    }
   },
   "cell_type": "code",
   "source": [
    "R = np.array([\n",
    "    [5, 3, 0, 1],\n",
    "    [4, 0, 0, 1],\n",
    "    [1, 1, 0, 5],\n",
    "    [1, 0, 0, 4],\n",
    "    [0, 1, 5, 4],\n",
    "])"
   ],
   "id": "a03093d0430cd9ae",
   "outputs": [],
   "execution_count": 25
  },
  {
   "metadata": {
    "ExecuteTime": {
     "end_time": "2024-07-14T07:35:02.690068Z",
     "start_time": "2024-07-14T07:35:02.687044Z"
    }
   },
   "cell_type": "code",
   "source": "R = R.astype(np.float64)",
   "id": "76c69b4ff8f286e9",
   "outputs": [],
   "execution_count": 26
  },
  {
   "metadata": {
    "ExecuteTime": {
     "end_time": "2024-07-14T07:35:08.298342Z",
     "start_time": "2024-07-14T07:35:08.295910Z"
    }
   },
   "cell_type": "code",
   "source": [
    "n_factors = 3\n",
    "U, Sigma, VT = svds(R, k=n_factors)"
   ],
   "id": "28fddb947f50a6ea",
   "outputs": [],
   "execution_count": 28
  },
  {
   "metadata": {
    "ExecuteTime": {
     "end_time": "2024-07-14T07:35:08.712872Z",
     "start_time": "2024-07-14T07:35:08.709974Z"
    }
   },
   "cell_type": "code",
   "source": [
    "print(\"U (user features):\")\n",
    "U"
   ],
   "id": "aae3ffa36f7cd9c6",
   "outputs": [
    {
     "name": "stdout",
     "output_type": "stream",
     "text": [
      "U (user features):\n"
     ]
    },
    {
     "data": {
      "text/plain": [
       "array([[-0.29627751,  0.66924125,  0.43689593],\n",
       "       [-0.05015708,  0.44308727,  0.29717498],\n",
       "       [ 0.54893193, -0.13631518,  0.51589728],\n",
       "       [ 0.48349385, -0.11077382,  0.39999635],\n",
       "       [-0.61205501, -0.5700326 ,  0.54282768]])"
      ]
     },
     "execution_count": 29,
     "metadata": {},
     "output_type": "execute_result"
    }
   ],
   "execution_count": 29
  },
  {
   "metadata": {
    "ExecuteTime": {
     "end_time": "2024-07-14T07:35:09.197258Z",
     "start_time": "2024-07-14T07:35:09.194221Z"
    }
   },
   "cell_type": "code",
   "source": [
    "print(\"\\nSigma (diagonal values):\")\n",
    "Sigma"
   ],
   "id": "3c8df0048445c873",
   "outputs": [
    {
     "name": "stdout",
     "output_type": "stream",
     "text": [
      "\n",
      "Sigma (diagonal values):\n"
     ]
    },
    {
     "data": {
      "text/plain": [
       "array([3.77397038, 6.22925557, 9.03171974])"
      ]
     },
     "execution_count": 30,
     "metadata": {},
     "output_type": "execute_result"
    }
   ],
   "execution_count": 30
  },
  {
   "metadata": {
    "ExecuteTime": {
     "end_time": "2024-07-14T07:35:09.654228Z",
     "start_time": "2024-07-14T07:35:09.648177Z"
    }
   },
   "cell_type": "code",
   "source": [
    "print(\"\\nVT (item features):\")\n",
    "VT"
   ],
   "id": "8c637f8872afbb24",
   "outputs": [
    {
     "name": "stdout",
     "output_type": "stream",
     "text": [
      "\n",
      "VT (item features):\n"
     ]
    },
    {
     "data": {
      "text/plain": [
       "array([[-0.17212379, -0.25224247, -0.81089006,  0.49920382],\n",
       "       [ 0.78203025,  0.20891356, -0.45754472, -0.36801718],\n",
       "       [ 0.47488998,  0.26234348,  0.3005118 ,  0.78444124]])"
      ]
     },
     "execution_count": 31,
     "metadata": {},
     "output_type": "execute_result"
    }
   ],
   "execution_count": 31
  },
  {
   "metadata": {
    "ExecuteTime": {
     "end_time": "2024-07-14T07:35:10.174844Z",
     "start_time": "2024-07-14T07:35:10.171275Z"
    }
   },
   "cell_type": "code",
   "source": [
    "Sigma = np.diag(Sigma)\n",
    "R_approx = np.dot(U, np.dot(Sigma, VT))\n",
    "print(\"\\nReconstructed R:\")\n",
    "R_approx"
   ],
   "id": "1c23db915be1fa29",
   "outputs": [
    {
     "name": "stdout",
     "output_type": "stream",
     "text": [
      "\n",
      "Reconstructed R:\n"
     ]
    },
    {
     "data": {
      "text/plain": [
       "array([[ 5.32652372,  2.18816428,  0.18504005,  1.00294508],\n",
       "       [ 3.46567149,  1.32850063, -0.30280243,  0.99518063],\n",
       "       [ 1.19208569,  0.52241748,  0.10885441,  5.00173251],\n",
       "       [ 0.86190988,  0.34333338, -0.07825527,  3.9987545 ],\n",
       "       [-0.05108206,  1.1270053 ,  4.97105194,  3.99953927]])"
      ]
     },
     "execution_count": 32,
     "metadata": {},
     "output_type": "execute_result"
    }
   ],
   "execution_count": 32
  }
 ],
 "metadata": {
  "kernelspec": {
   "display_name": "Python 3",
   "language": "python",
   "name": "python3"
  },
  "language_info": {
   "codemirror_mode": {
    "name": "ipython",
    "version": 2
   },
   "file_extension": ".py",
   "mimetype": "text/x-python",
   "name": "python",
   "nbconvert_exporter": "python",
   "pygments_lexer": "ipython2",
   "version": "2.7.6"
  }
 },
 "nbformat": 4,
 "nbformat_minor": 5
}
