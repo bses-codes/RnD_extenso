{
 "cells": [
  {
   "metadata": {
    "ExecuteTime": {
     "end_time": "2024-07-15T07:12:13.411577Z",
     "start_time": "2024-07-15T07:12:13.409061Z"
    }
   },
   "cell_type": "code",
   "source": [
    "class User:\n",
    "  def __init__(self, user_id, name):\n",
    "    self.id = user_id\n",
    "    self.name = name\n",
    "    self.friends = []\n",
    "    self.ratings = {}\n",
    "    self.centrality_score = None  # Placeholder for network centrality\n"
   ],
   "id": "52e60c761134afa2",
   "outputs": [],
   "execution_count": 11
  },
  {
   "metadata": {
    "ExecuteTime": {
     "end_time": "2024-07-15T07:12:13.414836Z",
     "start_time": "2024-07-15T07:12:13.412941Z"
    }
   },
   "cell_type": "code",
   "source": [
    "# Define movie class (optional)\n",
    "class Movie:\n",
    "  def __init__(self, movie_id, title):\n",
    "    self.id = movie_id\n",
    "    self.title = title\n",
    "\n",
    "# Network and Centrality Score Calculation (using NetworkX)"
   ],
   "id": "c7a7bce1274f8bf1",
   "outputs": [],
   "execution_count": 12
  },
  {
   "metadata": {
    "ExecuteTime": {
     "end_time": "2024-07-15T07:12:13.418036Z",
     "start_time": "2024-07-15T07:12:13.415689Z"
    }
   },
   "cell_type": "code",
   "source": [
    "import networkx as nx\n",
    "\n",
    "def calculate_centrality_scores(users):\n",
    "  G = nx.Graph()\n",
    "  G.add_edges_from([(u.id, friend.id) for u in users.values() for friend in u.friends])\n",
    "  for user_id, user in users.items():\n",
    "    user.centrality_score = nx.degree_centrality(G)[user_id]  # Example: Degree Centrality\n"
   ],
   "id": "466383d1e0aaed3c",
   "outputs": [],
   "execution_count": 13
  },
  {
   "metadata": {
    "ExecuteTime": {
     "end_time": "2024-07-15T07:12:13.421519Z",
     "start_time": "2024-07-15T07:12:13.419239Z"
    }
   },
   "cell_type": "code",
   "source": [
    "# Function to calculate rating similarity (using Pearson correlation)\n",
    "from scipy.stats import pearsonr\n",
    "\n",
    "def calculate_similarity(user1_ratings, user2_ratings):\n",
    "  common_movies = set(user1_ratings.keys()) & set(user2_ratings.keys())\n",
    "  if len(common_movies) < 2:  # Check for at least 2 common movies\n",
    "    return 0\n",
    "  ratings1 = [user1_ratings[movie] for movie in common_movies]\n",
    "  ratings2 = [user2_ratings[movie] for movie in common_movies]\n",
    "  _, correlation = pearsonr(ratings1, ratings2)\n",
    "  return correlation\n",
    "\n"
   ],
   "id": "58058664642f070a",
   "outputs": [],
   "execution_count": 14
  },
  {
   "metadata": {
    "ExecuteTime": {
     "end_time": "2024-07-15T07:12:13.424806Z",
     "start_time": "2024-07-15T07:12:13.422294Z"
    }
   },
   "cell_type": "code",
   "source": [
    "# Define a simple Bayesian network class (assuming binary ratings)\n",
    "class BayesianNetwork:\n",
    "  def __init__(self, users):\n",
    "    self.users = users\n",
    "    # Pre-calculate conditional probabilities (can be learned from data)\n",
    "    self.p_user_rating_given_friend_rating = {\n",
    "      (user_id, rating): {friend_id: 0.7 for friend_id in users}  # Example: Prior of 0.7\n",
    "      for user_id in users\n",
    "      for rating in (0, 1)\n",
    "    }\n",
    "\n",
    "  def update_conditional_probability(self, user1, user2, rating1, rating2):\n",
    "    # Update conditional probability based on observed ratings (example)\n",
    "    self.p_user_rating_given_friend_rating[user1.id][user2.id] = 0.8 if rating1 == rating2 else 0.2\n",
    "\n",
    "  def predict_rating(self, user, movie, friend):\n",
    "    friend_rating = friend.ratings.get(movie, None)\n",
    "    if friend_rating is None:\n",
    "      return None  # Friend hasn't rated the movie\n",
    "    prior = self.p_user_rating_given_friend_rating[user.id][friend.id]\n",
    "    return prior * friend_rating\n"
   ],
   "id": "81033ac1c140cc08",
   "outputs": [],
   "execution_count": 15
  },
  {
   "metadata": {
    "ExecuteTime": {
     "end_time": "2024-07-15T07:12:13.427815Z",
     "start_time": "2024-07-15T07:12:13.425687Z"
    }
   },
   "cell_type": "code",
   "source": [
    "# Function to find similar users based on a combination of factors\n",
    "def get_similar_users(user, network, threshold=0.2):\n",
    "  similar_users = []\n",
    "  for friend in user.friends:\n",
    "    if not friend.ratings:  # Skip friends with no ratings\n",
    "      continue\n",
    "    similarity = 0.7 * calculate_similarity(user.ratings, friend.ratings)  # Weight rating similarity\n",
    "    similarity += 0.3 * friend.centrality_score  # Weight centrality score (adjustable)\n",
    "    if similarity >= threshold:\n",
    "      similar_users.append(friend)\n",
    "  return similar_users\n"
   ],
   "id": "ada8d391a39fbed1",
   "outputs": [],
   "execution_count": 16
  },
  {
   "metadata": {
    "ExecuteTime": {
     "end_time": "2024-07-15T07:12:13.431674Z",
     "start_time": "2024-07-15T07:12:13.429355Z"
    }
   },
   "cell_type": "code",
   "source": [
    "# Function to recommend movies\n",
    "def recommend_movies(user, network):\n",
    "  recommendations = {}\n",
    "  for friend in get_similar_users(user, network):\n",
    "    for movie, rating in friend.ratings.items():\n",
    "      if movie not in user.ratings:\n",
    "        predicted_rating = network.predict_rating(user, movie, friend)\n",
    "        if predicted_rating is not None:\n",
    "          recommendations[movie] = recommendations.get(movie, 0) + predicted_rating\n",
    "  # Sort recommendations based on score\n",
    "  sorted_recommendations = sorted(recommendations.items(), key=lambda x: x[1], reverse=True)\n",
    "  return sorted_recommendations[:5]"
   ],
   "id": "ef54f7021835d2e6",
   "outputs": [],
   "execution_count": 17
  },
  {
   "metadata": {
    "ExecuteTime": {
     "end_time": "2024-07-15T07:12:13.435198Z",
     "start_time": "2024-07-15T07:12:13.432332Z"
    }
   },
   "cell_type": "code",
   "source": [
    "users = {\n",
    "  \"U1\": User(\"U1\", \"Alice\"),\n",
    "  \"U2\": User(\"U2\", \"Bob\"),\n",
    "  \"U3\": User(\"U3\", \"Charlie\"),\n",
    "  \"U4\": User(\"U4\", \"Diana\"),\n",
    "  \"U5\": User(\"U5\", \"Emily\"),\n",
    "}\n",
    "\n",
    "movies = {\n",
    "  \"M1\": \"The Godfather\",\n",
    "  \"M2\": \"The Shawshank Redemption\",\n",
    "  \"M3\": \"The Dark Knight\",\n",
    "}\n",
    "\n",
    "# Add friends (based on social network data)\n",
    "users[\"U1\"].friends.append(users[\"U2\"])\n",
    "users[\"U1\"].friends.append(users[\"U3\"])\n",
    "users[\"U2\"].friends.append(users[\"U4\"])\n",
    "users[\"U3\"].friends.append(users[\"U5\"])\n",
    "\n",
    "# Add movie ratings (based on sample data)\n",
    "users[\"U1\"].ratings[movies[\"M1\"]] = 4\n",
    "users[\"U1\"].ratings[movies[\"M2\"]] = 5\n",
    "users[\"U2\"].ratings[movies[\"M1\"]] = 3\n",
    "users[\"U2\"].ratings[movies[\"M3\"]] = 4\n",
    "users[\"U3\"].ratings[movies[\"M2\"]] = 5\n",
    "users[\"U4\"].ratings[movies[\"M1\"]] = 5\n",
    "users[\"U4\"].ratings[movies[\"M3\"]] = 2\n"
   ],
   "id": "2d25e19bfdc531ae",
   "outputs": [],
   "execution_count": 18
  },
  {
   "metadata": {
    "ExecuteTime": {
     "end_time": "2024-07-15T07:12:13.438037Z",
     "start_time": "2024-07-15T07:12:13.436009Z"
    }
   },
   "cell_type": "code",
   "source": [
    "# Example usage\n",
    "calculate_centrality_scores(users)\n",
    "network = BayesianNetwork(users)\n",
    "\n",
    "user = users[\"U1\"]\n",
    "recommendations = recommend_movies(user, network)\n",
    "\n",
    "print(f\"Movie recommendations for {user.name}:\")\n",
    "for movie_id, score in recommendations:\n",
    "  print(f\"- {movies[movie_id]} (score: {score:.2f})\")\n"
   ],
   "id": "2530eabc47929e03",
   "outputs": [
    {
     "name": "stdout",
     "output_type": "stream",
     "text": [
      "Movie recommendations for Alice:\n"
     ]
    }
   ],
   "execution_count": 19
  }
 ],
 "metadata": {
  "kernelspec": {
   "display_name": "Python 3",
   "language": "python",
   "name": "python3"
  },
  "language_info": {
   "codemirror_mode": {
    "name": "ipython",
    "version": 2
   },
   "file_extension": ".py",
   "mimetype": "text/x-python",
   "name": "python",
   "nbconvert_exporter": "python",
   "pygments_lexer": "ipython2",
   "version": "2.7.6"
  }
 },
 "nbformat": 4,
 "nbformat_minor": 5
}
