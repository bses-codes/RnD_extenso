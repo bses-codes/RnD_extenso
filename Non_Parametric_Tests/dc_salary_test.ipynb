{
 "cells": [
  {
   "metadata": {
    "ExecuteTime": {
     "end_time": "2024-07-03T04:14:24.873704Z",
     "start_time": "2024-07-03T04:14:24.872064Z"
    }
   },
   "cell_type": "code",
   "source": [
    "import pandas as pd\n",
    "import matplotlib.pyplot as plt\n",
    "import seaborn as sns"
   ],
   "id": "8484935c4502e391",
   "outputs": [],
   "execution_count": 1
  },
  {
   "metadata": {
    "ExecuteTime": {
     "end_time": "2024-07-03T04:34:55.274159Z",
     "start_time": "2024-07-03T04:34:55.228260Z"
    }
   },
   "cell_type": "code",
   "source": [
    "df = pd.read_csv('../datasets/fc_transaction_base.csv')\n",
    "data = df[['dc_indicator','lcy_amount']]\n",
    "data"
   ],
   "id": "7a13f749703625c9",
   "outputs": [
    {
     "data": {
      "text/plain": [
       "      dc_indicator  lcy_amount\n",
       "0         withdraw    14500.00\n",
       "1         withdraw    20000.00\n",
       "2         withdraw     4000.00\n",
       "3         withdraw      500.00\n",
       "4         withdraw     5000.00\n",
       "...            ...         ...\n",
       "45027     withdraw     1000.00\n",
       "45028     withdraw     1000.00\n",
       "45029     withdraw     5000.00\n",
       "45030      deposit        0.38\n",
       "45031     withdraw        0.02\n",
       "\n",
       "[45032 rows x 2 columns]"
      ],
      "text/html": [
       "<div>\n",
       "<style scoped>\n",
       "    .dataframe tbody tr th:only-of-type {\n",
       "        vertical-align: middle;\n",
       "    }\n",
       "\n",
       "    .dataframe tbody tr th {\n",
       "        vertical-align: top;\n",
       "    }\n",
       "\n",
       "    .dataframe thead th {\n",
       "        text-align: right;\n",
       "    }\n",
       "</style>\n",
       "<table border=\"1\" class=\"dataframe\">\n",
       "  <thead>\n",
       "    <tr style=\"text-align: right;\">\n",
       "      <th></th>\n",
       "      <th>dc_indicator</th>\n",
       "      <th>lcy_amount</th>\n",
       "    </tr>\n",
       "  </thead>\n",
       "  <tbody>\n",
       "    <tr>\n",
       "      <th>0</th>\n",
       "      <td>withdraw</td>\n",
       "      <td>14500.00</td>\n",
       "    </tr>\n",
       "    <tr>\n",
       "      <th>1</th>\n",
       "      <td>withdraw</td>\n",
       "      <td>20000.00</td>\n",
       "    </tr>\n",
       "    <tr>\n",
       "      <th>2</th>\n",
       "      <td>withdraw</td>\n",
       "      <td>4000.00</td>\n",
       "    </tr>\n",
       "    <tr>\n",
       "      <th>3</th>\n",
       "      <td>withdraw</td>\n",
       "      <td>500.00</td>\n",
       "    </tr>\n",
       "    <tr>\n",
       "      <th>4</th>\n",
       "      <td>withdraw</td>\n",
       "      <td>5000.00</td>\n",
       "    </tr>\n",
       "    <tr>\n",
       "      <th>...</th>\n",
       "      <td>...</td>\n",
       "      <td>...</td>\n",
       "    </tr>\n",
       "    <tr>\n",
       "      <th>45027</th>\n",
       "      <td>withdraw</td>\n",
       "      <td>1000.00</td>\n",
       "    </tr>\n",
       "    <tr>\n",
       "      <th>45028</th>\n",
       "      <td>withdraw</td>\n",
       "      <td>1000.00</td>\n",
       "    </tr>\n",
       "    <tr>\n",
       "      <th>45029</th>\n",
       "      <td>withdraw</td>\n",
       "      <td>5000.00</td>\n",
       "    </tr>\n",
       "    <tr>\n",
       "      <th>45030</th>\n",
       "      <td>deposit</td>\n",
       "      <td>0.38</td>\n",
       "    </tr>\n",
       "    <tr>\n",
       "      <th>45031</th>\n",
       "      <td>withdraw</td>\n",
       "      <td>0.02</td>\n",
       "    </tr>\n",
       "  </tbody>\n",
       "</table>\n",
       "<p>45032 rows × 2 columns</p>\n",
       "</div>"
      ]
     },
     "execution_count": 4,
     "metadata": {},
     "output_type": "execute_result"
    }
   ],
   "execution_count": 4
  },
  {
   "metadata": {
    "ExecuteTime": {
     "end_time": "2024-07-03T04:34:56.112803Z",
     "start_time": "2024-07-03T04:34:56.099919Z"
    }
   },
   "cell_type": "code",
   "source": [
    "df_withdraw = data[data['dc_indicator']=='withdraw']\n",
    "df_deposit = data[data['dc_indicator']=='deposit']"
   ],
   "id": "e231e4d977c9a9ff",
   "outputs": [],
   "execution_count": 5
  },
  {
   "metadata": {
    "ExecuteTime": {
     "end_time": "2024-07-03T04:34:56.692603Z",
     "start_time": "2024-07-03T04:34:56.542947Z"
    }
   },
   "cell_type": "code",
   "source": "data.boxplot(by='dc_indicator')",
   "id": "a6187dee713fda1",
   "outputs": [
    {
     "data": {
      "text/plain": [
       "<Axes: title={'center': 'lcy_amount'}, xlabel='[dc_indicator]'>"
      ]
     },
     "execution_count": 6,
     "metadata": {},
     "output_type": "execute_result"
    },
    {
     "data": {
      "text/plain": [
       "<Figure size 640x480 with 1 Axes>"
      ],
      "image/png": "[encoded data removed]"
     },
     "metadata": {},
     "output_type": "display_data"
    }
   ],
   "execution_count": 6
  },
  {
   "metadata": {},
   "cell_type": "markdown",
   "source": "Here, we can see that both the data are positively skewed. Therefore we can move forward with the assumption that the data does not follow normal distribution and the parameters of distribution are unknown for us.",
   "id": "b4bb904afc48882e"
  },
  {
   "metadata": {
    "ExecuteTime": {
     "end_time": "2024-07-03T04:34:57.589504Z",
     "start_time": "2024-07-03T04:34:57.587485Z"
    }
   },
   "cell_type": "code",
   "source": [
    "from scipy import stats\n",
    "import numpy as np"
   ],
   "id": "a7f966e260df5568",
   "outputs": [],
   "execution_count": 7
  },
  {
   "metadata": {},
   "cell_type": "markdown",
   "source": [
    "## Levene Test\n",
    "\n",
    "* **Null Hypothesis:** The variance of amounts for deposit is equal to the variance of amounts for withdraw.<br>\n",
    "* **Alternative Hypothesis:** The variance of amounts for deposit is significantly different from the variance of amounts for withdraw."
   ],
   "id": "861a60119f2ba651"
  },
  {
   "metadata": {
    "ExecuteTime": {
     "end_time": "2024-07-03T04:34:58.856192Z",
     "start_time": "2024-07-03T04:34:58.852499Z"
    }
   },
   "cell_type": "code",
   "source": [
    "stat, p_value = levene_test = stats.levene(df_deposit['lcy_amount'], df_withdraw['lcy_amount'])\n",
    "print(\"Levene Test:\")\n",
    "print(f\"Statistic: {stat}\")\n",
    "print(f\"P-value: {p_value}\")"
   ],
   "id": "addde2fdebf8d4d2",
   "outputs": [
    {
     "name": "stdout",
     "output_type": "stream",
     "text": [
      "Levene Test:\n",
      "Statistic: 362.41983174867596\n",
      "P-value: 1.7355588013262052e-80\n"
     ]
    }
   ],
   "execution_count": 8
  },
  {
   "metadata": {},
   "cell_type": "markdown",
   "source": "",
   "id": "24ab4aead2648bab"
  },
  {
   "metadata": {},
   "cell_type": "markdown",
   "source": "Here, at a 5% significance level, we can see P value is < 0.05. Therefore we reject the Null hypothesis.",
   "id": "8b5fc91c2db5d356"
  },
  {
   "metadata": {},
   "cell_type": "markdown",
   "source": [
    "## Mann-Whitney U Test\n",
    "\n",
    "* **Null Hypothesis:** The two samples come from the same population.<br>\n",
    "* **Alternative Hypothesis:** The two samples do not come from the same population."
   ],
   "id": "d3af71e57e3d473f"
  },
  {
   "metadata": {
    "ExecuteTime": {
     "end_time": "2024-07-03T04:35:00.234708Z",
     "start_time": "2024-07-03T04:35:00.228618Z"
    }
   },
   "cell_type": "code",
   "source": [
    "u_stat, p_value = stats.mannwhitneyu(df_deposit['lcy_amount'], df_withdraw['lcy_amount'])\n",
    "\n",
    "print(\"Mann-Whitney U Test:\")\n",
    "print(f\"Mann-Whitney U Statistic: {u_stat}\")\n",
    "print(f\"P-value: {p_value}\")"
   ],
   "id": "a36d3ce565b46614",
   "outputs": [
    {
     "name": "stdout",
     "output_type": "stream",
     "text": [
      "Mann-Whitney U Test:\n",
      "Mann-Whitney U Statistic: 275675744.5\n",
      "P-value: 0.0\n"
     ]
    }
   ],
   "execution_count": 9
  },
  {
   "metadata": {},
   "cell_type": "markdown",
   "source": "Here, at a 5% significance level, we can see P value is < 0.05 or strictly 0. Therefore we reject the Null hypothesis.",
   "id": "830dbb82444f7287"
  },
  {
   "metadata": {},
   "cell_type": "markdown",
   "source": "",
   "id": "7573940558f0a518"
  },
  {
   "metadata": {},
   "cell_type": "markdown",
   "source": [
    "## Chi-Square Test\n",
    "\n",
    "* **Null Hypothesis:** The proportion of credits is equal to the proportion of debits.<br>\n",
    "* **Alternative Hypothesis:** The proportion of credits is significantly different from the proportion of debits."
   ],
   "id": "26e88ee92aeb2069"
  },
  {
   "metadata": {
    "ExecuteTime": {
     "end_time": "2024-07-03T04:35:01.466428Z",
     "start_time": "2024-07-03T04:35:01.462772Z"
    }
   },
   "cell_type": "code",
   "source": [
    "observed = np.array(df['dc_indicator'].value_counts())\n",
    "\n",
    "total = np.sum(observed)\n",
    "expected = np.array([total / 2, total / 2])\n",
    "chi2_stat, p_val, dof, ex = stats.chi2_contingency([observed, expected])"
   ],
   "id": "9a70cafc90e61d38",
   "outputs": [],
   "execution_count": 10
  },
  {
   "metadata": {
    "ExecuteTime": {
     "end_time": "2024-07-03T04:35:08.283467Z",
     "start_time": "2024-07-03T04:35:08.281097Z"
    }
   },
   "cell_type": "code",
   "source": [
    "print(f\"Chi-Square Statistic: {chi2_stat}\")\n",
    "print(f\"P-Value: {p_val}\")\n",
    "print(f\"Degrees of freedom: {dof}\")\n",
    "print(f\"Expected frequencies: {ex}\")"
   ],
   "id": "fc8a74baecb478d0",
   "outputs": [
    {
     "name": "stdout",
     "output_type": "stream",
     "text": [
      "Chi-Square Statistic: 5340.432087876121\n",
      "P-Value: 0.0\n",
      "Degrees of freedom: 1\n",
      "Expected frequencies: [[27842.5 17187.5]\n",
      " [27842.5 17187.5]]\n"
     ]
    }
   ],
   "execution_count": 12
  },
  {
   "metadata": {},
   "cell_type": "markdown",
   "source": "Here p-value is 0. Therfore we reject the null hypothesis.",
   "id": "90fa0cb262396476"
  }
 ],
 "metadata": {
  "kernelspec": {
   "display_name": "Python 3",
   "language": "python",
   "name": "python3"
  },
  "language_info": {
   "codemirror_mode": {
    "name": "ipython",
    "version": 2
   },
   "file_extension": ".py",
   "mimetype": "text/x-python",
   "name": "python",
   "nbconvert_exporter": "python",
   "pygments_lexer": "ipython2",
   "version": "2.7.6"
  }
 },
 "nbformat": 4,
 "nbformat_minor": 5
}
