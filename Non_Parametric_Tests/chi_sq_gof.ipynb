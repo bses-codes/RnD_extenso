{
 "cells": [
  {
   "cell_type": "code",
   "id": "f298b1074c9b959f",
   "metadata": {
    "collapsed": true,
    "ExecuteTime": {
     "end_time": "2024-07-03T04:14:20.437595Z",
     "start_time": "2024-07-03T04:14:20.069582Z"
    }
   },
   "source": [
    "import numpy as np\n",
    "from scipy import stats"
   ],
   "outputs": [],
   "execution_count": 1
  },
  {
   "metadata": {
    "ExecuteTime": {
     "end_time": "2024-07-03T04:14:20.440341Z",
     "start_time": "2024-07-03T04:14:20.438655Z"
    }
   },
   "cell_type": "code",
   "source": [
    "observed = np.array([18, 22, 20, 25, 15])\n",
    "expected = np.array([18, 22, 20, 25, 15])"
   ],
   "id": "31a01c2deda6e112",
   "outputs": [],
   "execution_count": 2
  },
  {
   "metadata": {
    "ExecuteTime": {
     "end_time": "2024-07-03T04:14:20.443153Z",
     "start_time": "2024-07-03T04:14:20.440932Z"
    }
   },
   "cell_type": "code",
   "source": [
    "chi2_stat, p_value = stats.chisquare(observed)\n",
    "# chi2_stat, p_value = stats.chisquare(observed, expected)"
   ],
   "id": "670a1a4a02c4cee0",
   "outputs": [],
   "execution_count": 3
  },
  {
   "metadata": {
    "ExecuteTime": {
     "end_time": "2024-07-03T04:14:20.446145Z",
     "start_time": "2024-07-03T04:14:20.444058Z"
    }
   },
   "cell_type": "code",
   "source": [
    "print(\"Chi-Square Goodness of Fit Test:\")\n",
    "print(f\"df: {len(observed)-1}\")\n",
    "print(f\"Chi-Square Statistic: {chi2_stat}\")\n",
    "print(f\"P-value: {p_value}\")"
   ],
   "id": "initial_id",
   "outputs": [
    {
     "name": "stdout",
     "output_type": "stream",
     "text": [
      "Chi-Square Goodness of Fit Test:\n",
      "df: 4\n",
      "Chi-Square Statistic: 2.9\n",
      "P-value: 0.5746972058298043\n"
     ]
    }
   ],
   "execution_count": 4
  }
 ],
 "metadata": {
  "kernelspec": {
   "display_name": "Python 3",
   "language": "python",
   "name": "python3"
  },
  "language_info": {
   "codemirror_mode": {
    "name": "ipython",
    "version": 2
   },
   "file_extension": ".py",
   "mimetype": "text/x-python",
   "name": "python",
   "nbconvert_exporter": "python",
   "pygments_lexer": "ipython2",
   "version": "2.7.6"
  }
 },
 "nbformat": 4,
 "nbformat_minor": 5
}
