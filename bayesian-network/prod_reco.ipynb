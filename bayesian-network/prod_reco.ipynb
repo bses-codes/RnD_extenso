{
 "cells": [
  {
   "cell_type": "code",
   "id": "initial_id",
   "metadata": {
    "collapsed": true,
    "ExecuteTime": {
     "end_time": "2024-07-03T04:00:28.692164Z",
     "start_time": "2024-07-03T04:00:26.731667Z"
    }
   },
   "source": [
    "import numpy as np\n",
    "import pandas as pd\n",
    "import matplotlib.pyplot as plt\n",
    "import networkx as nx\n",
    "from pgmpy.base import DAG\n",
    "from pgmpy.models import BayesianNetwork\n",
    "from pgmpy.estimators import BayesianEstimator\n",
    "from sklearn.preprocessing import KBinsDiscretizer\n",
    "\n",
    "import warnings\n",
    "warnings.filterwarnings(\"ignore\")"
   ],
   "outputs": [],
   "execution_count": 1
  },
  {
   "metadata": {
    "ExecuteTime": {
     "end_time": "2024-07-03T04:00:28.696456Z",
     "start_time": "2024-07-03T04:00:28.693207Z"
    }
   },
   "cell_type": "code",
   "source": [
    "np.random.seed(42)\n",
    "\n",
    "num_rows = 10000\n",
    "\n",
    "data = {\n",
    "    'ProductID': np.arange(1, num_rows + 1),\n",
    "    'Revenue': np.random.randint(500, 2501, size=num_rows), \n",
    "    'Amount': np.random.randint(200, 1001, size=num_rows), \n",
    "    'Cashback': np.random.randint(20, 101, size=num_rows), \n",
    "    'Reward': np.random.randint(3, 17, size=num_rows) \n",
    "}\n",
    "\n",
    "df = pd.DataFrame(data)"
   ],
   "id": "731a72c1d143644f",
   "outputs": [],
   "execution_count": 2
  },
  {
   "metadata": {
    "ExecuteTime": {
     "end_time": "2024-07-03T04:00:28.703185Z",
     "start_time": "2024-07-03T04:00:28.697073Z"
    }
   },
   "cell_type": "code",
   "source": "df.head()",
   "id": "14e446e665039761",
   "outputs": [
    {
     "data": {
      "text/plain": [
       "   ProductID  Revenue  Amount  Cashback  Reward\n",
       "0          1     1626     241        65      14\n",
       "1          2     1959     409        73      13\n",
       "2          3     1360     940        52       6\n",
       "3          4     1794     474        58       3\n",
       "4          5     1630     478        42       5"
      ],
      "text/html": [
       "<div>\n",
       "<style scoped>\n",
       "    .dataframe tbody tr th:only-of-type {\n",
       "        vertical-align: middle;\n",
       "    }\n",
       "\n",
       "    .dataframe tbody tr th {\n",
       "        vertical-align: top;\n",
       "    }\n",
       "\n",
       "    .dataframe thead th {\n",
       "        text-align: right;\n",
       "    }\n",
       "</style>\n",
       "<table border=\"1\" class=\"dataframe\">\n",
       "  <thead>\n",
       "    <tr style=\"text-align: right;\">\n",
       "      <th></th>\n",
       "      <th>ProductID</th>\n",
       "      <th>Revenue</th>\n",
       "      <th>Amount</th>\n",
       "      <th>Cashback</th>\n",
       "      <th>Reward</th>\n",
       "    </tr>\n",
       "  </thead>\n",
       "  <tbody>\n",
       "    <tr>\n",
       "      <th>0</th>\n",
       "      <td>1</td>\n",
       "      <td>1626</td>\n",
       "      <td>241</td>\n",
       "      <td>65</td>\n",
       "      <td>14</td>\n",
       "    </tr>\n",
       "    <tr>\n",
       "      <th>1</th>\n",
       "      <td>2</td>\n",
       "      <td>1959</td>\n",
       "      <td>409</td>\n",
       "      <td>73</td>\n",
       "      <td>13</td>\n",
       "    </tr>\n",
       "    <tr>\n",
       "      <th>2</th>\n",
       "      <td>3</td>\n",
       "      <td>1360</td>\n",
       "      <td>940</td>\n",
       "      <td>52</td>\n",
       "      <td>6</td>\n",
       "    </tr>\n",
       "    <tr>\n",
       "      <th>3</th>\n",
       "      <td>4</td>\n",
       "      <td>1794</td>\n",
       "      <td>474</td>\n",
       "      <td>58</td>\n",
       "      <td>3</td>\n",
       "    </tr>\n",
       "    <tr>\n",
       "      <th>4</th>\n",
       "      <td>5</td>\n",
       "      <td>1630</td>\n",
       "      <td>478</td>\n",
       "      <td>42</td>\n",
       "      <td>5</td>\n",
       "    </tr>\n",
       "  </tbody>\n",
       "</table>\n",
       "</div>"
      ]
     },
     "execution_count": 3,
     "metadata": {},
     "output_type": "execute_result"
    }
   ],
   "execution_count": 3
  },
  {
   "metadata": {
    "ExecuteTime": {
     "end_time": "2024-07-03T04:00:28.711948Z",
     "start_time": "2024-07-03T04:00:28.703987Z"
    }
   },
   "cell_type": "code",
   "source": "df.describe()",
   "id": "80bf8415f4dbf52b",
   "outputs": [
    {
     "data": {
      "text/plain": [
       "         ProductID       Revenue        Amount      Cashback        Reward\n",
       "count  10000.00000  10000.000000  10000.000000  10000.000000  10000.000000\n",
       "mean    5000.50000   1508.765800    601.380400     59.970900      9.570500\n",
       "std     2886.89568    575.215499    232.313584     23.445635      4.003028\n",
       "min        1.00000    500.000000    200.000000     20.000000      3.000000\n",
       "25%     2500.75000   1015.750000    402.000000     39.000000      6.000000\n",
       "50%     5000.50000   1510.000000    602.000000     60.000000     10.000000\n",
       "75%     7500.25000   2008.000000    802.000000     80.000000     13.000000\n",
       "max    10000.00000   2500.000000   1000.000000    100.000000     16.000000"
      ],
      "text/html": [
       "<div>\n",
       "<style scoped>\n",
       "    .dataframe tbody tr th:only-of-type {\n",
       "        vertical-align: middle;\n",
       "    }\n",
       "\n",
       "    .dataframe tbody tr th {\n",
       "        vertical-align: top;\n",
       "    }\n",
       "\n",
       "    .dataframe thead th {\n",
       "        text-align: right;\n",
       "    }\n",
       "</style>\n",
       "<table border=\"1\" class=\"dataframe\">\n",
       "  <thead>\n",
       "    <tr style=\"text-align: right;\">\n",
       "      <th></th>\n",
       "      <th>ProductID</th>\n",
       "      <th>Revenue</th>\n",
       "      <th>Amount</th>\n",
       "      <th>Cashback</th>\n",
       "      <th>Reward</th>\n",
       "    </tr>\n",
       "  </thead>\n",
       "  <tbody>\n",
       "    <tr>\n",
       "      <th>count</th>\n",
       "      <td>10000.00000</td>\n",
       "      <td>10000.000000</td>\n",
       "      <td>10000.000000</td>\n",
       "      <td>10000.000000</td>\n",
       "      <td>10000.000000</td>\n",
       "    </tr>\n",
       "    <tr>\n",
       "      <th>mean</th>\n",
       "      <td>5000.50000</td>\n",
       "      <td>1508.765800</td>\n",
       "      <td>601.380400</td>\n",
       "      <td>59.970900</td>\n",
       "      <td>9.570500</td>\n",
       "    </tr>\n",
       "    <tr>\n",
       "      <th>std</th>\n",
       "      <td>2886.89568</td>\n",
       "      <td>575.215499</td>\n",
       "      <td>232.313584</td>\n",
       "      <td>23.445635</td>\n",
       "      <td>4.003028</td>\n",
       "    </tr>\n",
       "    <tr>\n",
       "      <th>min</th>\n",
       "      <td>1.00000</td>\n",
       "      <td>500.000000</td>\n",
       "      <td>200.000000</td>\n",
       "      <td>20.000000</td>\n",
       "      <td>3.000000</td>\n",
       "    </tr>\n",
       "    <tr>\n",
       "      <th>25%</th>\n",
       "      <td>2500.75000</td>\n",
       "      <td>1015.750000</td>\n",
       "      <td>402.000000</td>\n",
       "      <td>39.000000</td>\n",
       "      <td>6.000000</td>\n",
       "    </tr>\n",
       "    <tr>\n",
       "      <th>50%</th>\n",
       "      <td>5000.50000</td>\n",
       "      <td>1510.000000</td>\n",
       "      <td>602.000000</td>\n",
       "      <td>60.000000</td>\n",
       "      <td>10.000000</td>\n",
       "    </tr>\n",
       "    <tr>\n",
       "      <th>75%</th>\n",
       "      <td>7500.25000</td>\n",
       "      <td>2008.000000</td>\n",
       "      <td>802.000000</td>\n",
       "      <td>80.000000</td>\n",
       "      <td>13.000000</td>\n",
       "    </tr>\n",
       "    <tr>\n",
       "      <th>max</th>\n",
       "      <td>10000.00000</td>\n",
       "      <td>2500.000000</td>\n",
       "      <td>1000.000000</td>\n",
       "      <td>100.000000</td>\n",
       "      <td>16.000000</td>\n",
       "    </tr>\n",
       "  </tbody>\n",
       "</table>\n",
       "</div>"
      ]
     },
     "execution_count": 4,
     "metadata": {},
     "output_type": "execute_result"
    }
   ],
   "execution_count": 4
  },
  {
   "metadata": {
    "ExecuteTime": {
     "end_time": "2024-07-03T04:00:28.718245Z",
     "start_time": "2024-07-03T04:00:28.713367Z"
    }
   },
   "cell_type": "code",
   "source": [
    "df1 = df.copy()\n",
    "continuous_columns = ['Revenue', 'Amount', 'Cashback', 'Reward']\n",
    "num_bins = 10\n",
    "\n",
    "discretizer = KBinsDiscretizer(n_bins=num_bins, encode='ordinal', strategy='uniform')\n",
    "df1[continuous_columns] = discretizer.fit_transform(df1[continuous_columns])"
   ],
   "id": "c846447995db2f9c",
   "outputs": [],
   "execution_count": 5
  },
  {
   "metadata": {
    "ExecuteTime": {
     "end_time": "2024-07-03T04:00:28.724580Z",
     "start_time": "2024-07-03T04:00:28.718958Z"
    }
   },
   "cell_type": "code",
   "source": "df1",
   "id": "12ac713e3146a54a",
   "outputs": [
    {
     "data": {
      "text/plain": [
       "      ProductID  Revenue  Amount  Cashback  Reward\n",
       "0             1      5.0     0.0       5.0     8.0\n",
       "1             2      7.0     2.0       6.0     7.0\n",
       "2             3      4.0     9.0       4.0     2.0\n",
       "3             4      6.0     3.0       4.0     0.0\n",
       "4             5      5.0     3.0       2.0     1.0\n",
       "...         ...      ...     ...       ...     ...\n",
       "9995       9996      4.0     3.0       4.0     0.0\n",
       "9996       9997      2.0     5.0       3.0     3.0\n",
       "9997       9998      9.0     9.0       5.0     6.0\n",
       "9998       9999      8.0     0.0       4.0     6.0\n",
       "9999      10000      9.0     2.0       8.0     4.0\n",
       "\n",
       "[10000 rows x 5 columns]"
      ],
      "text/html": [
       "<div>\n",
       "<style scoped>\n",
       "    .dataframe tbody tr th:only-of-type {\n",
       "        vertical-align: middle;\n",
       "    }\n",
       "\n",
       "    .dataframe tbody tr th {\n",
       "        vertical-align: top;\n",
       "    }\n",
       "\n",
       "    .dataframe thead th {\n",
       "        text-align: right;\n",
       "    }\n",
       "</style>\n",
       "<table border=\"1\" class=\"dataframe\">\n",
       "  <thead>\n",
       "    <tr style=\"text-align: right;\">\n",
       "      <th></th>\n",
       "      <th>ProductID</th>\n",
       "      <th>Revenue</th>\n",
       "      <th>Amount</th>\n",
       "      <th>Cashback</th>\n",
       "      <th>Reward</th>\n",
       "    </tr>\n",
       "  </thead>\n",
       "  <tbody>\n",
       "    <tr>\n",
       "      <th>0</th>\n",
       "      <td>1</td>\n",
       "      <td>5.0</td>\n",
       "      <td>0.0</td>\n",
       "      <td>5.0</td>\n",
       "      <td>8.0</td>\n",
       "    </tr>\n",
       "    <tr>\n",
       "      <th>1</th>\n",
       "      <td>2</td>\n",
       "      <td>7.0</td>\n",
       "      <td>2.0</td>\n",
       "      <td>6.0</td>\n",
       "      <td>7.0</td>\n",
       "    </tr>\n",
       "    <tr>\n",
       "      <th>2</th>\n",
       "      <td>3</td>\n",
       "      <td>4.0</td>\n",
       "      <td>9.0</td>\n",
       "      <td>4.0</td>\n",
       "      <td>2.0</td>\n",
       "    </tr>\n",
       "    <tr>\n",
       "      <th>3</th>\n",
       "      <td>4</td>\n",
       "      <td>6.0</td>\n",
       "      <td>3.0</td>\n",
       "      <td>4.0</td>\n",
       "      <td>0.0</td>\n",
       "    </tr>\n",
       "    <tr>\n",
       "      <th>4</th>\n",
       "      <td>5</td>\n",
       "      <td>5.0</td>\n",
       "      <td>3.0</td>\n",
       "      <td>2.0</td>\n",
       "      <td>1.0</td>\n",
       "    </tr>\n",
       "    <tr>\n",
       "      <th>...</th>\n",
       "      <td>...</td>\n",
       "      <td>...</td>\n",
       "      <td>...</td>\n",
       "      <td>...</td>\n",
       "      <td>...</td>\n",
       "    </tr>\n",
       "    <tr>\n",
       "      <th>9995</th>\n",
       "      <td>9996</td>\n",
       "      <td>4.0</td>\n",
       "      <td>3.0</td>\n",
       "      <td>4.0</td>\n",
       "      <td>0.0</td>\n",
       "    </tr>\n",
       "    <tr>\n",
       "      <th>9996</th>\n",
       "      <td>9997</td>\n",
       "      <td>2.0</td>\n",
       "      <td>5.0</td>\n",
       "      <td>3.0</td>\n",
       "      <td>3.0</td>\n",
       "    </tr>\n",
       "    <tr>\n",
       "      <th>9997</th>\n",
       "      <td>9998</td>\n",
       "      <td>9.0</td>\n",
       "      <td>9.0</td>\n",
       "      <td>5.0</td>\n",
       "      <td>6.0</td>\n",
       "    </tr>\n",
       "    <tr>\n",
       "      <th>9998</th>\n",
       "      <td>9999</td>\n",
       "      <td>8.0</td>\n",
       "      <td>0.0</td>\n",
       "      <td>4.0</td>\n",
       "      <td>6.0</td>\n",
       "    </tr>\n",
       "    <tr>\n",
       "      <th>9999</th>\n",
       "      <td>10000</td>\n",
       "      <td>9.0</td>\n",
       "      <td>2.0</td>\n",
       "      <td>8.0</td>\n",
       "      <td>4.0</td>\n",
       "    </tr>\n",
       "  </tbody>\n",
       "</table>\n",
       "<p>10000 rows × 5 columns</p>\n",
       "</div>"
      ]
     },
     "execution_count": 6,
     "metadata": {},
     "output_type": "execute_result"
    }
   ],
   "execution_count": 6
  },
  {
   "metadata": {
    "ExecuteTime": {
     "end_time": "2024-07-03T04:00:28.727137Z",
     "start_time": "2024-07-03T04:00:28.725577Z"
    }
   },
   "cell_type": "code",
   "source": "# num_bins = 10",
   "id": "9c09636101b2f10c",
   "outputs": [],
   "execution_count": 7
  },
  {
   "metadata": {
    "ExecuteTime": {
     "end_time": "2024-07-03T04:00:28.729359Z",
     "start_time": "2024-07-03T04:00:28.727713Z"
    }
   },
   "cell_type": "code",
   "source": [
    "# def discretize_continuous_variables(data, columns_to_discretize, num_bins=5):\n",
    "#     for col in columns_to_discretize:\n",
    "#         if data[col].dtype == 'int64' or data[col].dtype == 'float64': \n",
    "#             data[col] = pd.cut(data[col], bins=num_bins, labels=False)\n",
    "#     # return data\n",
    "# \n",
    "# continuous_columns = ['Revenue', 'Amount', 'Cashback', 'Reward']\n",
    "# \n",
    "# df_discretized = discretize_continuous_variables(df.copy(), continuous_columns, num_bins=num_bins)\n",
    "# \n",
    "# df_discretized['ProductID'] = df['ProductID'].astype('category')\n"
   ],
   "id": "c10396bc855a95fc",
   "outputs": [],
   "execution_count": 8
  },
  {
   "metadata": {
    "ExecuteTime": {
     "end_time": "2024-07-03T04:00:28.731739Z",
     "start_time": "2024-07-03T04:00:28.730155Z"
    }
   },
   "cell_type": "code",
   "source": "# df_discretized",
   "id": "3b020c624e028224",
   "outputs": [],
   "execution_count": 9
  },
  {
   "metadata": {
    "ExecuteTime": {
     "end_time": "2024-07-03T04:00:28.784803Z",
     "start_time": "2024-07-03T04:00:28.782222Z"
    }
   },
   "cell_type": "code",
   "source": [
    "def plot_network(network: 'DAG', name: str = 'Network', save_image: bool = False):\n",
    "  fig, ax = plt.subplots(1, 1, figsize=(12, 12))\n",
    "  nx.draw_networkx(network, pos=nx.drawing.layout.circular_layout(network), ax=ax, node_size=5000)\n",
    "  ax.set_title(name)\n",
    "  if save_image:\n",
    "    fig.savefig(name)"
   ],
   "id": "d3899cab3f08edaf",
   "outputs": [],
   "execution_count": 10
  },
  {
   "metadata": {
    "ExecuteTime": {
     "end_time": "2024-07-03T04:00:29.070368Z",
     "start_time": "2024-07-03T04:00:28.934807Z"
    }
   },
   "cell_type": "code",
   "source": [
    "model = BayesianNetwork([('Revenue','ProductID'),('Amount','ProductID'),('Cashback','ProductID'),('Reward','ProductID')])\n",
    "plot_network(model, 'Model')"
   ],
   "id": "6d63edf3a2c1c32e",
   "outputs": [
    {
     "data": {
      "text/plain": [
       "<Figure size 1200x1200 with 1 Axes>"
      ],
      "image/png": "[encoded data removed]"
     },
     "metadata": {},
     "output_type": "display_data"
    }
   ],
   "execution_count": 11
  },
  {
   "metadata": {
    "ExecuteTime": {
     "end_time": "2024-07-03T04:00:31.908409Z",
     "start_time": "2024-07-03T04:00:29.112234Z"
    }
   },
   "cell_type": "code",
   "source": "model.fit(df1, estimator=BayesianEstimator)",
   "id": "59ce1ef770450a6e",
   "outputs": [],
   "execution_count": 12
  },
  {
   "metadata": {
    "ExecuteTime": {
     "end_time": "2024-07-03T04:00:31.942976Z",
     "start_time": "2024-07-03T04:00:31.940132Z"
    }
   },
   "cell_type": "code",
   "source": [
    "evidence_continuous = {\n",
    "    'Revenue': 1270,\n",
    "    'Amount': 1000,\n",
    "    'Cashback': 50,\n",
    "    'Reward': 11\n",
    "}\n",
    "\n",
    "# Discretize the evidence values\n",
    "evidence_df = pd.DataFrame([evidence_continuous])\n",
    "evidence_discretized = discretizer.transform(evidence_df)"
   ],
   "id": "f2b6d18325fa2488",
   "outputs": [],
   "execution_count": 13
  },
  {
   "metadata": {
    "ExecuteTime": {
     "end_time": "2024-07-03T04:00:32.015969Z",
     "start_time": "2024-07-03T04:00:32.013984Z"
    }
   },
   "cell_type": "code",
   "source": "tmp = pd.DataFrame(evidence_discretized)",
   "id": "7df9a07110910fd8",
   "outputs": [],
   "execution_count": 14
  },
  {
   "metadata": {
    "ExecuteTime": {
     "end_time": "2024-07-03T04:00:32.018972Z",
     "start_time": "2024-07-03T04:00:32.017098Z"
    }
   },
   "cell_type": "code",
   "source": "tmp.columns = ['Revenue', 'Amount', 'Cashback', 'Reward']",
   "id": "da6728b27473dbc9",
   "outputs": [],
   "execution_count": 15
  },
  {
   "metadata": {
    "ExecuteTime": {
     "end_time": "2024-07-03T04:00:32.022744Z",
     "start_time": "2024-07-03T04:00:32.019524Z"
    }
   },
   "cell_type": "code",
   "source": "tmp",
   "id": "8e287ca68006a79c",
   "outputs": [
    {
     "data": {
      "text/plain": [
       "   Revenue  Amount  Cashback  Reward\n",
       "0      3.0     9.0       3.0     6.0"
      ],
      "text/html": [
       "<div>\n",
       "<style scoped>\n",
       "    .dataframe tbody tr th:only-of-type {\n",
       "        vertical-align: middle;\n",
       "    }\n",
       "\n",
       "    .dataframe tbody tr th {\n",
       "        vertical-align: top;\n",
       "    }\n",
       "\n",
       "    .dataframe thead th {\n",
       "        text-align: right;\n",
       "    }\n",
       "</style>\n",
       "<table border=\"1\" class=\"dataframe\">\n",
       "  <thead>\n",
       "    <tr style=\"text-align: right;\">\n",
       "      <th></th>\n",
       "      <th>Revenue</th>\n",
       "      <th>Amount</th>\n",
       "      <th>Cashback</th>\n",
       "      <th>Reward</th>\n",
       "    </tr>\n",
       "  </thead>\n",
       "  <tbody>\n",
       "    <tr>\n",
       "      <th>0</th>\n",
       "      <td>3.0</td>\n",
       "      <td>9.0</td>\n",
       "      <td>3.0</td>\n",
       "      <td>6.0</td>\n",
       "    </tr>\n",
       "  </tbody>\n",
       "</table>\n",
       "</div>"
      ]
     },
     "execution_count": 16,
     "metadata": {},
     "output_type": "execute_result"
    }
   ],
   "execution_count": 16
  },
  {
   "metadata": {
    "ExecuteTime": {
     "end_time": "2024-07-03T04:00:32.419667Z",
     "start_time": "2024-07-03T04:00:32.024865Z"
    }
   },
   "cell_type": "code",
   "source": [
    "tmp_1 = model.predict_probability(tmp).T\n",
    "tmp_1.columns = ['Probabilities']\n",
    "tmp_1.sort_values(by='Probabilities', ascending=False, inplace=True)"
   ],
   "id": "816bd57154a6f2eb",
   "outputs": [],
   "execution_count": 17
  },
  {
   "metadata": {
    "ExecuteTime": {
     "end_time": "2024-07-03T04:00:32.432262Z",
     "start_time": "2024-07-03T04:00:32.422626Z"
    }
   },
   "cell_type": "code",
   "source": "tmp_1",
   "id": "6f38bb6f21403ff8",
   "outputs": [
    {
     "data": {
      "text/plain": [
       "                 Probabilities\n",
       "ProductID_5200    9.995003e-01\n",
       "ProductID_1       4.997501e-08\n",
       "ProductID_6671    4.997501e-08\n",
       "ProductID_6664    4.997501e-08\n",
       "ProductID_6665    4.997501e-08\n",
       "...                        ...\n",
       "ProductID_3334    4.997501e-08\n",
       "ProductID_3335    4.997501e-08\n",
       "ProductID_3336    4.997501e-08\n",
       "ProductID_3337    4.997501e-08\n",
       "ProductID_10000   4.997501e-08\n",
       "\n",
       "[10000 rows x 1 columns]"
      ],
      "text/html": [
       "<div>\n",
       "<style scoped>\n",
       "    .dataframe tbody tr th:only-of-type {\n",
       "        vertical-align: middle;\n",
       "    }\n",
       "\n",
       "    .dataframe tbody tr th {\n",
       "        vertical-align: top;\n",
       "    }\n",
       "\n",
       "    .dataframe thead th {\n",
       "        text-align: right;\n",
       "    }\n",
       "</style>\n",
       "<table border=\"1\" class=\"dataframe\">\n",
       "  <thead>\n",
       "    <tr style=\"text-align: right;\">\n",
       "      <th></th>\n",
       "      <th>Probabilities</th>\n",
       "    </tr>\n",
       "  </thead>\n",
       "  <tbody>\n",
       "    <tr>\n",
       "      <th>ProductID_5200</th>\n",
       "      <td>9.995003e-01</td>\n",
       "    </tr>\n",
       "    <tr>\n",
       "      <th>ProductID_1</th>\n",
       "      <td>4.997501e-08</td>\n",
       "    </tr>\n",
       "    <tr>\n",
       "      <th>ProductID_6671</th>\n",
       "      <td>4.997501e-08</td>\n",
       "    </tr>\n",
       "    <tr>\n",
       "      <th>ProductID_6664</th>\n",
       "      <td>4.997501e-08</td>\n",
       "    </tr>\n",
       "    <tr>\n",
       "      <th>ProductID_6665</th>\n",
       "      <td>4.997501e-08</td>\n",
       "    </tr>\n",
       "    <tr>\n",
       "      <th>...</th>\n",
       "      <td>...</td>\n",
       "    </tr>\n",
       "    <tr>\n",
       "      <th>ProductID_3334</th>\n",
       "      <td>4.997501e-08</td>\n",
       "    </tr>\n",
       "    <tr>\n",
       "      <th>ProductID_3335</th>\n",
       "      <td>4.997501e-08</td>\n",
       "    </tr>\n",
       "    <tr>\n",
       "      <th>ProductID_3336</th>\n",
       "      <td>4.997501e-08</td>\n",
       "    </tr>\n",
       "    <tr>\n",
       "      <th>ProductID_3337</th>\n",
       "      <td>4.997501e-08</td>\n",
       "    </tr>\n",
       "    <tr>\n",
       "      <th>ProductID_10000</th>\n",
       "      <td>4.997501e-08</td>\n",
       "    </tr>\n",
       "  </tbody>\n",
       "</table>\n",
       "<p>10000 rows × 1 columns</p>\n",
       "</div>"
      ]
     },
     "execution_count": 18,
     "metadata": {},
     "output_type": "execute_result"
    }
   ],
   "execution_count": 18
  },
  {
   "metadata": {
    "ExecuteTime": {
     "end_time": "2024-07-03T04:00:32.434616Z",
     "start_time": "2024-07-03T04:00:32.432879Z"
    }
   },
   "cell_type": "code",
   "source": [
    "# from pgmpy.inference import BeliefPropagation\n",
    "# evidence= {\n",
    "#     'Revenue': 5,\n",
    "#     'Amount': 7,\n",
    "#     'Cashback': 3,\n",
    "#     'Reward': 6\n",
    "# }"
   ],
   "id": "c2d49ddd7b20ea38",
   "outputs": [],
   "execution_count": 19
  },
  {
   "metadata": {
    "ExecuteTime": {
     "end_time": "2024-07-03T04:00:32.436885Z",
     "start_time": "2024-07-03T04:00:32.435385Z"
    }
   },
   "cell_type": "code",
   "source": [
    "# bp = BeliefPropagation(model)\n",
    "# \n",
    "# probabilities = bp.query(variables=['ProductID'], evidence=evidence)\n",
    "# \n",
    "# # Extract probabilities as a numpy array\n",
    "# prob_array = probabilities.values.flatten()\n"
   ],
   "id": "69850f6b6f3f864",
   "outputs": [],
   "execution_count": 20
  },
  {
   "metadata": {
    "ExecuteTime": {
     "end_time": "2024-07-03T04:00:32.438831Z",
     "start_time": "2024-07-03T04:00:32.437485Z"
    }
   },
   "cell_type": "code",
   "source": "# prob_array",
   "id": "fd80dd07f14cc8fd",
   "outputs": [],
   "execution_count": 21
  },
  {
   "metadata": {
    "ExecuteTime": {
     "end_time": "2024-07-03T04:00:32.441009Z",
     "start_time": "2024-07-03T04:00:32.439429Z"
    }
   },
   "cell_type": "code",
   "source": [
    "# final_data = df[['ProductID']]\n",
    "# final_data['Probability'] = prob_array"
   ],
   "id": "36927cb438c45a6d",
   "outputs": [],
   "execution_count": 22
  },
  {
   "metadata": {
    "ExecuteTime": {
     "end_time": "2024-07-03T04:00:32.443369Z",
     "start_time": "2024-07-03T04:00:32.441748Z"
    }
   },
   "cell_type": "code",
   "source": "# final_data.sort_values(by='Probability', ascending=False).reset_index(drop=True)",
   "id": "ea8d4a9fd5d9b708",
   "outputs": [],
   "execution_count": 23
  },
  {
   "metadata": {
    "ExecuteTime": {
     "end_time": "2024-07-03T04:00:32.448130Z",
     "start_time": "2024-07-03T04:00:32.443853Z"
    }
   },
   "cell_type": "code",
   "source": "df1[df1['ProductID'].isin([16610,7830])]",
   "id": "dfd74b51a3c761e7",
   "outputs": [
    {
     "data": {
      "text/plain": [
       "      ProductID  Revenue  Amount  Cashback  Reward\n",
       "7829       7830      3.0     4.0       5.0     4.0"
      ],
      "text/html": [
       "<div>\n",
       "<style scoped>\n",
       "    .dataframe tbody tr th:only-of-type {\n",
       "        vertical-align: middle;\n",
       "    }\n",
       "\n",
       "    .dataframe tbody tr th {\n",
       "        vertical-align: top;\n",
       "    }\n",
       "\n",
       "    .dataframe thead th {\n",
       "        text-align: right;\n",
       "    }\n",
       "</style>\n",
       "<table border=\"1\" class=\"dataframe\">\n",
       "  <thead>\n",
       "    <tr style=\"text-align: right;\">\n",
       "      <th></th>\n",
       "      <th>ProductID</th>\n",
       "      <th>Revenue</th>\n",
       "      <th>Amount</th>\n",
       "      <th>Cashback</th>\n",
       "      <th>Reward</th>\n",
       "    </tr>\n",
       "  </thead>\n",
       "  <tbody>\n",
       "    <tr>\n",
       "      <th>7829</th>\n",
       "      <td>7830</td>\n",
       "      <td>3.0</td>\n",
       "      <td>4.0</td>\n",
       "      <td>5.0</td>\n",
       "      <td>4.0</td>\n",
       "    </tr>\n",
       "  </tbody>\n",
       "</table>\n",
       "</div>"
      ]
     },
     "execution_count": 24,
     "metadata": {},
     "output_type": "execute_result"
    }
   ],
   "execution_count": 24
  },
  {
   "metadata": {
    "ExecuteTime": {
     "end_time": "2024-07-03T04:00:32.452450Z",
     "start_time": "2024-07-03T04:00:32.448707Z"
    }
   },
   "cell_type": "code",
   "source": "df[df['ProductID'].isin([37,595])]",
   "id": "c704ea3b900e591c",
   "outputs": [
    {
     "data": {
      "text/plain": [
       "     ProductID  Revenue  Amount  Cashback  Reward\n",
       "36          37     1247     287        70      10\n",
       "594        595     1155     929        82       6"
      ],
      "text/html": [
       "<div>\n",
       "<style scoped>\n",
       "    .dataframe tbody tr th:only-of-type {\n",
       "        vertical-align: middle;\n",
       "    }\n",
       "\n",
       "    .dataframe tbody tr th {\n",
       "        vertical-align: top;\n",
       "    }\n",
       "\n",
       "    .dataframe thead th {\n",
       "        text-align: right;\n",
       "    }\n",
       "</style>\n",
       "<table border=\"1\" class=\"dataframe\">\n",
       "  <thead>\n",
       "    <tr style=\"text-align: right;\">\n",
       "      <th></th>\n",
       "      <th>ProductID</th>\n",
       "      <th>Revenue</th>\n",
       "      <th>Amount</th>\n",
       "      <th>Cashback</th>\n",
       "      <th>Reward</th>\n",
       "    </tr>\n",
       "  </thead>\n",
       "  <tbody>\n",
       "    <tr>\n",
       "      <th>36</th>\n",
       "      <td>37</td>\n",
       "      <td>1247</td>\n",
       "      <td>287</td>\n",
       "      <td>70</td>\n",
       "      <td>10</td>\n",
       "    </tr>\n",
       "    <tr>\n",
       "      <th>594</th>\n",
       "      <td>595</td>\n",
       "      <td>1155</td>\n",
       "      <td>929</td>\n",
       "      <td>82</td>\n",
       "      <td>6</td>\n",
       "    </tr>\n",
       "  </tbody>\n",
       "</table>\n",
       "</div>"
      ]
     },
     "execution_count": 25,
     "metadata": {},
     "output_type": "execute_result"
    }
   ],
   "execution_count": 25
  }
 ],
 "metadata": {
  "kernelspec": {
   "display_name": "Python 3",
   "language": "python",
   "name": "python3"
  },
  "language_info": {
   "codemirror_mode": {
    "name": "ipython",
    "version": 2
   },
   "file_extension": ".py",
   "mimetype": "text/x-python",
   "name": "python",
   "nbconvert_exporter": "python",
   "pygments_lexer": "ipython2",
   "version": "2.7.6"
  }
 },
 "nbformat": 4,
 "nbformat_minor": 5
}
