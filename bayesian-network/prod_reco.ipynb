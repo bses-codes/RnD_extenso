{
 "cells": [
  {
   "cell_type": "code",
   "id": "initial_id",
   "metadata": {
    "collapsed": true,
    "ExecuteTime": {
     "end_time": "2024-06-27T08:06:53.208663Z",
     "start_time": "2024-06-27T08:06:52.079803Z"
    }
   },
   "source": [
    "import numpy as np\n",
    "import pandas as pd\n",
    "import matplotlib.pyplot as plt\n",
    "import networkx as nx\n",
    "from pgmpy.base import DAG\n",
    "from pgmpy.models import BayesianNetwork\n",
    "from pgmpy.estimators import BayesianEstimator\n",
    "from sklearn.preprocessing import KBinsDiscretizer\n",
    "\n",
    "import warnings\n",
    "warnings.filterwarnings(\"ignore\")"
   ],
   "outputs": [],
   "execution_count": 1
  },
  {
   "metadata": {
    "ExecuteTime": {
     "end_time": "2024-06-27T08:27:48.491286Z",
     "start_time": "2024-06-27T08:27:48.481308Z"
    }
   },
   "cell_type": "code",
   "source": [
    "np.random.seed(42)\n",
    "\n",
    "num_rows = 200000\n",
    "\n",
    "data = {\n",
    "    'ProductID': np.arange(1, num_rows + 1),\n",
    "    'Revenue': np.random.randint(500, 2501, size=num_rows), \n",
    "    'Amount': np.random.randint(200, 1001, size=num_rows), \n",
    "    'Cashback': np.random.randint(20, 101, size=num_rows), \n",
    "    'Reward': np.random.randint(3, 17, size=num_rows) \n",
    "}\n",
    "\n",
    "df = pd.DataFrame(data)"
   ],
   "id": "731a72c1d143644f",
   "outputs": [],
   "execution_count": 26
  },
  {
   "metadata": {
    "ExecuteTime": {
     "end_time": "2024-06-27T08:27:48.971665Z",
     "start_time": "2024-06-27T08:27:48.967842Z"
    }
   },
   "cell_type": "code",
   "source": "df.head()",
   "id": "14e446e665039761",
   "outputs": [
    {
     "data": {
      "text/plain": [
       "   ProductID  Revenue  Amount  Cashback  Reward\n",
       "0          1     1626     753        49      12\n",
       "1          2     1959     756        63      11\n",
       "2          3     1360     460        98       6\n",
       "3          4     1794     728        61       7\n",
       "4          5     1630     348        47      12"
      ],
      "text/html": [
       "<div>\n",
       "<style scoped>\n",
       "    .dataframe tbody tr th:only-of-type {\n",
       "        vertical-align: middle;\n",
       "    }\n",
       "\n",
       "    .dataframe tbody tr th {\n",
       "        vertical-align: top;\n",
       "    }\n",
       "\n",
       "    .dataframe thead th {\n",
       "        text-align: right;\n",
       "    }\n",
       "</style>\n",
       "<table border=\"1\" class=\"dataframe\">\n",
       "  <thead>\n",
       "    <tr style=\"text-align: right;\">\n",
       "      <th></th>\n",
       "      <th>ProductID</th>\n",
       "      <th>Revenue</th>\n",
       "      <th>Amount</th>\n",
       "      <th>Cashback</th>\n",
       "      <th>Reward</th>\n",
       "    </tr>\n",
       "  </thead>\n",
       "  <tbody>\n",
       "    <tr>\n",
       "      <th>0</th>\n",
       "      <td>1</td>\n",
       "      <td>1626</td>\n",
       "      <td>753</td>\n",
       "      <td>49</td>\n",
       "      <td>12</td>\n",
       "    </tr>\n",
       "    <tr>\n",
       "      <th>1</th>\n",
       "      <td>2</td>\n",
       "      <td>1959</td>\n",
       "      <td>756</td>\n",
       "      <td>63</td>\n",
       "      <td>11</td>\n",
       "    </tr>\n",
       "    <tr>\n",
       "      <th>2</th>\n",
       "      <td>3</td>\n",
       "      <td>1360</td>\n",
       "      <td>460</td>\n",
       "      <td>98</td>\n",
       "      <td>6</td>\n",
       "    </tr>\n",
       "    <tr>\n",
       "      <th>3</th>\n",
       "      <td>4</td>\n",
       "      <td>1794</td>\n",
       "      <td>728</td>\n",
       "      <td>61</td>\n",
       "      <td>7</td>\n",
       "    </tr>\n",
       "    <tr>\n",
       "      <th>4</th>\n",
       "      <td>5</td>\n",
       "      <td>1630</td>\n",
       "      <td>348</td>\n",
       "      <td>47</td>\n",
       "      <td>12</td>\n",
       "    </tr>\n",
       "  </tbody>\n",
       "</table>\n",
       "</div>"
      ]
     },
     "execution_count": 27,
     "metadata": {},
     "output_type": "execute_result"
    }
   ],
   "execution_count": 27
  },
  {
   "metadata": {
    "ExecuteTime": {
     "end_time": "2024-06-27T08:27:49.549410Z",
     "start_time": "2024-06-27T08:27:49.525526Z"
    }
   },
   "cell_type": "code",
   "source": "df.describe()",
   "id": "80bf8415f4dbf52b",
   "outputs": [
    {
     "data": {
      "text/plain": [
       "           ProductID        Revenue         Amount       Cashback  \\\n",
       "count  200000.000000  200000.000000  200000.000000  200000.000000   \n",
       "mean   100000.500000    1500.686870     600.702225      59.863165   \n",
       "std     57735.171256     577.154761     231.632833      23.369527   \n",
       "min         1.000000     500.000000     200.000000      20.000000   \n",
       "25%     50000.750000    1002.000000     400.000000      40.000000   \n",
       "50%    100000.500000    1501.000000     601.000000      60.000000   \n",
       "75%    150000.250000    2000.000000     801.000000      80.000000   \n",
       "max    200000.000000    2500.000000    1000.000000     100.000000   \n",
       "\n",
       "              Reward  \n",
       "count  200000.000000  \n",
       "mean        9.507315  \n",
       "std         4.034094  \n",
       "min         3.000000  \n",
       "25%         6.000000  \n",
       "50%        10.000000  \n",
       "75%        13.000000  \n",
       "max        16.000000  "
      ],
      "text/html": [
       "<div>\n",
       "<style scoped>\n",
       "    .dataframe tbody tr th:only-of-type {\n",
       "        vertical-align: middle;\n",
       "    }\n",
       "\n",
       "    .dataframe tbody tr th {\n",
       "        vertical-align: top;\n",
       "    }\n",
       "\n",
       "    .dataframe thead th {\n",
       "        text-align: right;\n",
       "    }\n",
       "</style>\n",
       "<table border=\"1\" class=\"dataframe\">\n",
       "  <thead>\n",
       "    <tr style=\"text-align: right;\">\n",
       "      <th></th>\n",
       "      <th>ProductID</th>\n",
       "      <th>Revenue</th>\n",
       "      <th>Amount</th>\n",
       "      <th>Cashback</th>\n",
       "      <th>Reward</th>\n",
       "    </tr>\n",
       "  </thead>\n",
       "  <tbody>\n",
       "    <tr>\n",
       "      <th>count</th>\n",
       "      <td>200000.000000</td>\n",
       "      <td>200000.000000</td>\n",
       "      <td>200000.000000</td>\n",
       "      <td>200000.000000</td>\n",
       "      <td>200000.000000</td>\n",
       "    </tr>\n",
       "    <tr>\n",
       "      <th>mean</th>\n",
       "      <td>100000.500000</td>\n",
       "      <td>1500.686870</td>\n",
       "      <td>600.702225</td>\n",
       "      <td>59.863165</td>\n",
       "      <td>9.507315</td>\n",
       "    </tr>\n",
       "    <tr>\n",
       "      <th>std</th>\n",
       "      <td>57735.171256</td>\n",
       "      <td>577.154761</td>\n",
       "      <td>231.632833</td>\n",
       "      <td>23.369527</td>\n",
       "      <td>4.034094</td>\n",
       "    </tr>\n",
       "    <tr>\n",
       "      <th>min</th>\n",
       "      <td>1.000000</td>\n",
       "      <td>500.000000</td>\n",
       "      <td>200.000000</td>\n",
       "      <td>20.000000</td>\n",
       "      <td>3.000000</td>\n",
       "    </tr>\n",
       "    <tr>\n",
       "      <th>25%</th>\n",
       "      <td>50000.750000</td>\n",
       "      <td>1002.000000</td>\n",
       "      <td>400.000000</td>\n",
       "      <td>40.000000</td>\n",
       "      <td>6.000000</td>\n",
       "    </tr>\n",
       "    <tr>\n",
       "      <th>50%</th>\n",
       "      <td>100000.500000</td>\n",
       "      <td>1501.000000</td>\n",
       "      <td>601.000000</td>\n",
       "      <td>60.000000</td>\n",
       "      <td>10.000000</td>\n",
       "    </tr>\n",
       "    <tr>\n",
       "      <th>75%</th>\n",
       "      <td>150000.250000</td>\n",
       "      <td>2000.000000</td>\n",
       "      <td>801.000000</td>\n",
       "      <td>80.000000</td>\n",
       "      <td>13.000000</td>\n",
       "    </tr>\n",
       "    <tr>\n",
       "      <th>max</th>\n",
       "      <td>200000.000000</td>\n",
       "      <td>2500.000000</td>\n",
       "      <td>1000.000000</td>\n",
       "      <td>100.000000</td>\n",
       "      <td>16.000000</td>\n",
       "    </tr>\n",
       "  </tbody>\n",
       "</table>\n",
       "</div>"
      ]
     },
     "execution_count": 28,
     "metadata": {},
     "output_type": "execute_result"
    }
   ],
   "execution_count": 28
  },
  {
   "metadata": {
    "ExecuteTime": {
     "end_time": "2024-06-27T08:27:50.017060Z",
     "start_time": "2024-06-27T08:27:49.992605Z"
    }
   },
   "cell_type": "code",
   "source": [
    "df1 = df.copy()\n",
    "continuous_columns = ['Revenue', 'Amount', 'Cashback', 'Reward']\n",
    "num_bins = 10\n",
    "\n",
    "discretizer = KBinsDiscretizer(n_bins=num_bins, encode='ordinal', strategy='uniform')\n",
    "df1[continuous_columns] = discretizer.fit_transform(df1[continuous_columns])"
   ],
   "id": "c846447995db2f9c",
   "outputs": [],
   "execution_count": 29
  },
  {
   "metadata": {
    "ExecuteTime": {
     "end_time": "2024-06-27T08:27:50.422147Z",
     "start_time": "2024-06-27T08:27:50.416676Z"
    }
   },
   "cell_type": "code",
   "source": "df1",
   "id": "12ac713e3146a54a",
   "outputs": [
    {
     "data": {
      "text/plain": [
       "        ProductID  Revenue  Amount  Cashback  Reward\n",
       "0               1      5.0     6.0       3.0     6.0\n",
       "1               2      7.0     6.0       5.0     6.0\n",
       "2               3      4.0     3.0       9.0     2.0\n",
       "3               4      6.0     6.0       5.0     3.0\n",
       "4               5      5.0     1.0       3.0     6.0\n",
       "...           ...      ...     ...       ...     ...\n",
       "199995     199996      6.0     0.0       3.0     6.0\n",
       "199996     199997      0.0     9.0       1.0     8.0\n",
       "199997     199998      6.0     0.0       9.0     9.0\n",
       "199998     199999      8.0     5.0       4.0     9.0\n",
       "199999     200000      9.0     7.0       5.0     6.0\n",
       "\n",
       "[200000 rows x 5 columns]"
      ],
      "text/html": [
       "<div>\n",
       "<style scoped>\n",
       "    .dataframe tbody tr th:only-of-type {\n",
       "        vertical-align: middle;\n",
       "    }\n",
       "\n",
       "    .dataframe tbody tr th {\n",
       "        vertical-align: top;\n",
       "    }\n",
       "\n",
       "    .dataframe thead th {\n",
       "        text-align: right;\n",
       "    }\n",
       "</style>\n",
       "<table border=\"1\" class=\"dataframe\">\n",
       "  <thead>\n",
       "    <tr style=\"text-align: right;\">\n",
       "      <th></th>\n",
       "      <th>ProductID</th>\n",
       "      <th>Revenue</th>\n",
       "      <th>Amount</th>\n",
       "      <th>Cashback</th>\n",
       "      <th>Reward</th>\n",
       "    </tr>\n",
       "  </thead>\n",
       "  <tbody>\n",
       "    <tr>\n",
       "      <th>0</th>\n",
       "      <td>1</td>\n",
       "      <td>5.0</td>\n",
       "      <td>6.0</td>\n",
       "      <td>3.0</td>\n",
       "      <td>6.0</td>\n",
       "    </tr>\n",
       "    <tr>\n",
       "      <th>1</th>\n",
       "      <td>2</td>\n",
       "      <td>7.0</td>\n",
       "      <td>6.0</td>\n",
       "      <td>5.0</td>\n",
       "      <td>6.0</td>\n",
       "    </tr>\n",
       "    <tr>\n",
       "      <th>2</th>\n",
       "      <td>3</td>\n",
       "      <td>4.0</td>\n",
       "      <td>3.0</td>\n",
       "      <td>9.0</td>\n",
       "      <td>2.0</td>\n",
       "    </tr>\n",
       "    <tr>\n",
       "      <th>3</th>\n",
       "      <td>4</td>\n",
       "      <td>6.0</td>\n",
       "      <td>6.0</td>\n",
       "      <td>5.0</td>\n",
       "      <td>3.0</td>\n",
       "    </tr>\n",
       "    <tr>\n",
       "      <th>4</th>\n",
       "      <td>5</td>\n",
       "      <td>5.0</td>\n",
       "      <td>1.0</td>\n",
       "      <td>3.0</td>\n",
       "      <td>6.0</td>\n",
       "    </tr>\n",
       "    <tr>\n",
       "      <th>...</th>\n",
       "      <td>...</td>\n",
       "      <td>...</td>\n",
       "      <td>...</td>\n",
       "      <td>...</td>\n",
       "      <td>...</td>\n",
       "    </tr>\n",
       "    <tr>\n",
       "      <th>199995</th>\n",
       "      <td>199996</td>\n",
       "      <td>6.0</td>\n",
       "      <td>0.0</td>\n",
       "      <td>3.0</td>\n",
       "      <td>6.0</td>\n",
       "    </tr>\n",
       "    <tr>\n",
       "      <th>199996</th>\n",
       "      <td>199997</td>\n",
       "      <td>0.0</td>\n",
       "      <td>9.0</td>\n",
       "      <td>1.0</td>\n",
       "      <td>8.0</td>\n",
       "    </tr>\n",
       "    <tr>\n",
       "      <th>199997</th>\n",
       "      <td>199998</td>\n",
       "      <td>6.0</td>\n",
       "      <td>0.0</td>\n",
       "      <td>9.0</td>\n",
       "      <td>9.0</td>\n",
       "    </tr>\n",
       "    <tr>\n",
       "      <th>199998</th>\n",
       "      <td>199999</td>\n",
       "      <td>8.0</td>\n",
       "      <td>5.0</td>\n",
       "      <td>4.0</td>\n",
       "      <td>9.0</td>\n",
       "    </tr>\n",
       "    <tr>\n",
       "      <th>199999</th>\n",
       "      <td>200000</td>\n",
       "      <td>9.0</td>\n",
       "      <td>7.0</td>\n",
       "      <td>5.0</td>\n",
       "      <td>6.0</td>\n",
       "    </tr>\n",
       "  </tbody>\n",
       "</table>\n",
       "<p>200000 rows × 5 columns</p>\n",
       "</div>"
      ]
     },
     "execution_count": 30,
     "metadata": {},
     "output_type": "execute_result"
    }
   ],
   "execution_count": 30
  },
  {
   "metadata": {
    "ExecuteTime": {
     "end_time": "2024-06-27T08:27:50.825661Z",
     "start_time": "2024-06-27T08:27:50.823687Z"
    }
   },
   "cell_type": "code",
   "source": "# num_bins = 10",
   "id": "9c09636101b2f10c",
   "outputs": [],
   "execution_count": 31
  },
  {
   "metadata": {
    "ExecuteTime": {
     "end_time": "2024-06-27T08:27:51.148285Z",
     "start_time": "2024-06-27T08:27:51.145756Z"
    }
   },
   "cell_type": "code",
   "source": [
    "# def discretize_continuous_variables(data, columns_to_discretize, num_bins=5):\n",
    "#     for col in columns_to_discretize:\n",
    "#         if data[col].dtype == 'int64' or data[col].dtype == 'float64': \n",
    "#             data[col] = pd.cut(data[col], bins=num_bins, labels=False)\n",
    "#     # return data\n",
    "# \n",
    "# continuous_columns = ['Revenue', 'Amount', 'Cashback', 'Reward']\n",
    "# \n",
    "# df_discretized = discretize_continuous_variables(df.copy(), continuous_columns, num_bins=num_bins)\n",
    "# \n",
    "# df_discretized['ProductID'] = df['ProductID'].astype('category')\n"
   ],
   "id": "c10396bc855a95fc",
   "outputs": [],
   "execution_count": 32
  },
  {
   "metadata": {
    "ExecuteTime": {
     "end_time": "2024-06-27T08:27:51.480128Z",
     "start_time": "2024-06-27T08:27:51.478454Z"
    }
   },
   "cell_type": "code",
   "source": "# df_discretized",
   "id": "3b020c624e028224",
   "outputs": [],
   "execution_count": 33
  },
  {
   "metadata": {
    "ExecuteTime": {
     "end_time": "2024-06-27T08:27:51.696610Z",
     "start_time": "2024-06-27T08:27:51.692761Z"
    }
   },
   "cell_type": "code",
   "source": [
    "def plot_network(network: 'DAG', name: str = 'Network', save_image: bool = False):\n",
    "  fig, ax = plt.subplots(1, 1, figsize=(12, 12))\n",
    "  nx.draw_networkx(network, pos=nx.drawing.layout.circular_layout(network), ax=ax, node_size=5000)\n",
    "  ax.set_title(name)\n",
    "  if save_image:\n",
    "    fig.savefig(name)"
   ],
   "id": "d3899cab3f08edaf",
   "outputs": [],
   "execution_count": 34
  },
  {
   "metadata": {
    "ExecuteTime": {
     "end_time": "2024-06-27T08:27:52.091777Z",
     "start_time": "2024-06-27T08:27:51.967870Z"
    }
   },
   "cell_type": "code",
   "source": [
    "model = BayesianNetwork([('Revenue','ProductID'),('Amount','ProductID'),('Cashback','ProductID'),('Reward','ProductID')])\n",
    "plot_network(model, 'Model')"
   ],
   "id": "6d63edf3a2c1c32e",
   "outputs": [
    {
     "data": {
      "text/plain": [
       "<Figure size 1200x1200 with 1 Axes>"
      ],
      "image/png": "[encoded data removed]"
     },
     "metadata": {},
     "output_type": "display_data"
    }
   ],
   "execution_count": 35
  },
  {
   "metadata": {
    "ExecuteTime": {
     "start_time": "2024-06-27T08:27:52.268750Z"
    }
   },
   "cell_type": "code",
   "source": "model.fit(df1, estimator=BayesianEstimator)",
   "id": "59ce1ef770450a6e",
   "outputs": [],
   "execution_count": null
  },
  {
   "metadata": {
    "ExecuteTime": {
     "end_time": "2024-06-27T08:22:42.892017Z",
     "start_time": "2024-06-27T08:22:42.864284Z"
    }
   },
   "cell_type": "code",
   "source": [
    "evidence_continuous = {\n",
    "    'Revenue': 1270,\n",
    "    'Amount': 1000,\n",
    "    'Cashback': 50,\n",
    "    'Reward': 11\n",
    "}\n",
    "\n",
    "# Discretize the evidence values\n",
    "evidence_df = pd.DataFrame([evidence_continuous])\n",
    "evidence_discretized = discretizer.transform(evidence_df)"
   ],
   "id": "f2b6d18325fa2488",
   "outputs": [],
   "execution_count": 13
  },
  {
   "metadata": {
    "ExecuteTime": {
     "end_time": "2024-06-27T08:22:43.449666Z",
     "start_time": "2024-06-27T08:22:43.447116Z"
    }
   },
   "cell_type": "code",
   "source": "tmp = pd.DataFrame(evidence_discretized)",
   "id": "7df9a07110910fd8",
   "outputs": [],
   "execution_count": 14
  },
  {
   "metadata": {
    "ExecuteTime": {
     "end_time": "2024-06-27T08:22:43.878681Z",
     "start_time": "2024-06-27T08:22:43.874633Z"
    }
   },
   "cell_type": "code",
   "source": "tmp.columns = ['Revenue', 'Amount', 'Cashback', 'Reward']",
   "id": "da6728b27473dbc9",
   "outputs": [],
   "execution_count": 15
  },
  {
   "metadata": {
    "ExecuteTime": {
     "end_time": "2024-06-27T08:22:44.349629Z",
     "start_time": "2024-06-27T08:22:44.343907Z"
    }
   },
   "cell_type": "code",
   "source": "tmp",
   "id": "8e287ca68006a79c",
   "outputs": [
    {
     "data": {
      "text/plain": [
       "   Revenue  Amount  Cashback  Reward\n",
       "0      3.0     9.0       3.0     6.0"
      ],
      "text/html": [
       "<div>\n",
       "<style scoped>\n",
       "    .dataframe tbody tr th:only-of-type {\n",
       "        vertical-align: middle;\n",
       "    }\n",
       "\n",
       "    .dataframe tbody tr th {\n",
       "        vertical-align: top;\n",
       "    }\n",
       "\n",
       "    .dataframe thead th {\n",
       "        text-align: right;\n",
       "    }\n",
       "</style>\n",
       "<table border=\"1\" class=\"dataframe\">\n",
       "  <thead>\n",
       "    <tr style=\"text-align: right;\">\n",
       "      <th></th>\n",
       "      <th>Revenue</th>\n",
       "      <th>Amount</th>\n",
       "      <th>Cashback</th>\n",
       "      <th>Reward</th>\n",
       "    </tr>\n",
       "  </thead>\n",
       "  <tbody>\n",
       "    <tr>\n",
       "      <th>0</th>\n",
       "      <td>3.0</td>\n",
       "      <td>9.0</td>\n",
       "      <td>3.0</td>\n",
       "      <td>6.0</td>\n",
       "    </tr>\n",
       "  </tbody>\n",
       "</table>\n",
       "</div>"
      ]
     },
     "execution_count": 16,
     "metadata": {},
     "output_type": "execute_result"
    }
   ],
   "execution_count": 16
  },
  {
   "metadata": {
    "ExecuteTime": {
     "end_time": "2024-06-27T08:24:43.932862Z",
     "start_time": "2024-06-27T08:22:45.323402Z"
    }
   },
   "cell_type": "code",
   "source": [
    "tmp_1 = model.predict_probability(tmp).T\n",
    "tmp_1.columns = ['Probabilities']\n",
    "tmp_1.sort_values(by='Probabilities', ascending=False, inplace=True)"
   ],
   "id": "816bd57154a6f2eb",
   "outputs": [],
   "execution_count": 17
  },
  {
   "metadata": {
    "ExecuteTime": {
     "end_time": "2024-06-27T08:26:37.711097Z",
     "start_time": "2024-06-27T08:26:37.705749Z"
    }
   },
   "cell_type": "code",
   "source": "tmp_1",
   "id": "6f38bb6f21403ff8",
   "outputs": [
    {
     "data": {
      "text/plain": [
       "                  Probabilities\n",
       "ProductID_16610    8.332986e-02\n",
       "ProductID_7830     8.332986e-02\n",
       "ProductID_66506    8.332986e-02\n",
       "ProductID_24521    8.332986e-02\n",
       "ProductID_83678    8.332986e-02\n",
       "...                         ...\n",
       "ProductID_33336    4.166493e-10\n",
       "ProductID_33335    4.166493e-10\n",
       "ProductID_33334    4.166493e-10\n",
       "ProductID_33333    4.166493e-10\n",
       "ProductID_100000   4.166493e-10\n",
       "\n",
       "[100000 rows x 1 columns]"
      ],
      "text/html": [
       "<div>\n",
       "<style scoped>\n",
       "    .dataframe tbody tr th:only-of-type {\n",
       "        vertical-align: middle;\n",
       "    }\n",
       "\n",
       "    .dataframe tbody tr th {\n",
       "        vertical-align: top;\n",
       "    }\n",
       "\n",
       "    .dataframe thead th {\n",
       "        text-align: right;\n",
       "    }\n",
       "</style>\n",
       "<table border=\"1\" class=\"dataframe\">\n",
       "  <thead>\n",
       "    <tr style=\"text-align: right;\">\n",
       "      <th></th>\n",
       "      <th>Probabilities</th>\n",
       "    </tr>\n",
       "  </thead>\n",
       "  <tbody>\n",
       "    <tr>\n",
       "      <th>ProductID_16610</th>\n",
       "      <td>8.332986e-02</td>\n",
       "    </tr>\n",
       "    <tr>\n",
       "      <th>ProductID_7830</th>\n",
       "      <td>8.332986e-02</td>\n",
       "    </tr>\n",
       "    <tr>\n",
       "      <th>ProductID_66506</th>\n",
       "      <td>8.332986e-02</td>\n",
       "    </tr>\n",
       "    <tr>\n",
       "      <th>ProductID_24521</th>\n",
       "      <td>8.332986e-02</td>\n",
       "    </tr>\n",
       "    <tr>\n",
       "      <th>ProductID_83678</th>\n",
       "      <td>8.332986e-02</td>\n",
       "    </tr>\n",
       "    <tr>\n",
       "      <th>...</th>\n",
       "      <td>...</td>\n",
       "    </tr>\n",
       "    <tr>\n",
       "      <th>ProductID_33336</th>\n",
       "      <td>4.166493e-10</td>\n",
       "    </tr>\n",
       "    <tr>\n",
       "      <th>ProductID_33335</th>\n",
       "      <td>4.166493e-10</td>\n",
       "    </tr>\n",
       "    <tr>\n",
       "      <th>ProductID_33334</th>\n",
       "      <td>4.166493e-10</td>\n",
       "    </tr>\n",
       "    <tr>\n",
       "      <th>ProductID_33333</th>\n",
       "      <td>4.166493e-10</td>\n",
       "    </tr>\n",
       "    <tr>\n",
       "      <th>ProductID_100000</th>\n",
       "      <td>4.166493e-10</td>\n",
       "    </tr>\n",
       "  </tbody>\n",
       "</table>\n",
       "<p>100000 rows × 1 columns</p>\n",
       "</div>"
      ]
     },
     "execution_count": 18,
     "metadata": {},
     "output_type": "execute_result"
    }
   ],
   "execution_count": 18
  },
  {
   "metadata": {
    "ExecuteTime": {
     "end_time": "2024-06-27T08:26:42.601268Z",
     "start_time": "2024-06-27T08:26:42.598606Z"
    }
   },
   "cell_type": "code",
   "source": [
    "# from pgmpy.inference import BeliefPropagation\n",
    "# evidence= {\n",
    "#     'Revenue': 5,\n",
    "#     'Amount': 7,\n",
    "#     'Cashback': 3,\n",
    "#     'Reward': 6\n",
    "# }"
   ],
   "id": "c2d49ddd7b20ea38",
   "outputs": [],
   "execution_count": 19
  },
  {
   "metadata": {
    "ExecuteTime": {
     "end_time": "2024-06-27T08:26:43.131780Z",
     "start_time": "2024-06-27T08:26:43.129680Z"
    }
   },
   "cell_type": "code",
   "source": [
    "# bp = BeliefPropagation(model)\n",
    "# \n",
    "# probabilities = bp.query(variables=['ProductID'], evidence=evidence)\n",
    "# \n",
    "# # Extract probabilities as a numpy array\n",
    "# prob_array = probabilities.values.flatten()\n"
   ],
   "id": "69850f6b6f3f864",
   "outputs": [],
   "execution_count": 20
  },
  {
   "metadata": {
    "ExecuteTime": {
     "end_time": "2024-06-27T08:26:43.439022Z",
     "start_time": "2024-06-27T08:26:43.436883Z"
    }
   },
   "cell_type": "code",
   "source": "# prob_array",
   "id": "fd80dd07f14cc8fd",
   "outputs": [],
   "execution_count": 21
  },
  {
   "metadata": {
    "ExecuteTime": {
     "end_time": "2024-06-27T08:26:43.766693Z",
     "start_time": "2024-06-27T08:26:43.764247Z"
    }
   },
   "cell_type": "code",
   "source": [
    "# final_data = df[['ProductID']]\n",
    "# final_data['Probability'] = prob_array"
   ],
   "id": "36927cb438c45a6d",
   "outputs": [],
   "execution_count": 22
  },
  {
   "metadata": {
    "ExecuteTime": {
     "end_time": "2024-06-27T08:26:44.033567Z",
     "start_time": "2024-06-27T08:26:44.031752Z"
    }
   },
   "cell_type": "code",
   "source": "# final_data.sort_values(by='Probability', ascending=False).reset_index(drop=True)",
   "id": "ea8d4a9fd5d9b708",
   "outputs": [],
   "execution_count": 23
  },
  {
   "metadata": {
    "ExecuteTime": {
     "end_time": "2024-06-27T08:27:07.742308Z",
     "start_time": "2024-06-27T08:27:07.734678Z"
    }
   },
   "cell_type": "code",
   "source": "df1[df1['ProductID'].isin([16610,7830])]",
   "id": "dfd74b51a3c761e7",
   "outputs": [
    {
     "data": {
      "text/plain": [
       "       ProductID  Revenue  Amount  Cashback  Reward\n",
       "7829        7830      3.0     9.0       3.0     6.0\n",
       "16609      16610      3.0     9.0       3.0     6.0"
      ],
      "text/html": [
       "<div>\n",
       "<style scoped>\n",
       "    .dataframe tbody tr th:only-of-type {\n",
       "        vertical-align: middle;\n",
       "    }\n",
       "\n",
       "    .dataframe tbody tr th {\n",
       "        vertical-align: top;\n",
       "    }\n",
       "\n",
       "    .dataframe thead th {\n",
       "        text-align: right;\n",
       "    }\n",
       "</style>\n",
       "<table border=\"1\" class=\"dataframe\">\n",
       "  <thead>\n",
       "    <tr style=\"text-align: right;\">\n",
       "      <th></th>\n",
       "      <th>ProductID</th>\n",
       "      <th>Revenue</th>\n",
       "      <th>Amount</th>\n",
       "      <th>Cashback</th>\n",
       "      <th>Reward</th>\n",
       "    </tr>\n",
       "  </thead>\n",
       "  <tbody>\n",
       "    <tr>\n",
       "      <th>7829</th>\n",
       "      <td>7830</td>\n",
       "      <td>3.0</td>\n",
       "      <td>9.0</td>\n",
       "      <td>3.0</td>\n",
       "      <td>6.0</td>\n",
       "    </tr>\n",
       "    <tr>\n",
       "      <th>16609</th>\n",
       "      <td>16610</td>\n",
       "      <td>3.0</td>\n",
       "      <td>9.0</td>\n",
       "      <td>3.0</td>\n",
       "      <td>6.0</td>\n",
       "    </tr>\n",
       "  </tbody>\n",
       "</table>\n",
       "</div>"
      ]
     },
     "execution_count": 25,
     "metadata": {},
     "output_type": "execute_result"
    }
   ],
   "execution_count": 25
  },
  {
   "metadata": {},
   "cell_type": "code",
   "source": "df[df['ProductID'].isin([37,595])]",
   "id": "c704ea3b900e591c",
   "outputs": [],
   "execution_count": null
  }
 ],
 "metadata": {
  "kernelspec": {
   "display_name": "Python 3",
   "language": "python",
   "name": "python3"
  },
  "language_info": {
   "codemirror_mode": {
    "name": "ipython",
    "version": 2
   },
   "file_extension": ".py",
   "mimetype": "text/x-python",
   "name": "python",
   "nbconvert_exporter": "python",
   "pygments_lexer": "ipython2",
   "version": "2.7.6"
  }
 },
 "nbformat": 4,
 "nbformat_minor": 5
}
