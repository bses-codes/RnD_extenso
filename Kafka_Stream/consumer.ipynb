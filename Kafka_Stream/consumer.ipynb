{
 "cells": [
  {
   "cell_type": "code",
   "metadata": {
    "ExecuteTime": {
     "end_time": "2024-07-03T04:29:03.313975Z",
     "start_time": "2024-07-03T04:29:02.215287Z"
    }
   },
   "source": [
    "from pyspark.sql import SparkSession\n",
    "from pyspark.sql.functions import *\n",
    "\n",
    "import time\n",
    "\n",
    "kafka_topic_name = '1234'\n",
    "kafka_bootstrap_servers = 'localhost:9092'\n",
    "\n",
    "spark = SparkSession \\\n",
    "        .builder \\\n",
    "        .appName(\"Structured Streaming \") \\\n",
    "        .master(\"local[*]\") \\\n",
    "        .config(\"spark.jars.packages\", \"org.apache.spark:spark-sql-kafka-0-10_2.12:3.5.1\") \\\n",
    "        .getOrCreate()\n",
    "\n",
    "spark.sparkContext.setLogLevel(\"ERROR\")\n",
    "\n",
    "df = spark \\\n",
    "        .readStream \\\n",
    "        .format(\"kafka\") \\\n",
    "        .option(\"kafka.bootstrap.servers\", kafka_bootstrap_servers) \\\n",
    "        .option(\"subscribe\", kafka_topic_name) \\\n",
    "        .option(\"startingOffsets\", \"earliest\") \\\n",
    "        .load()\n",
    "\n",
    "df.printSchema()\n",
    "\n",
    "\n",
    "df1 = df.selectExpr(\"CAST(value AS STRING)\", \"timestamp\")\n",
    "\n",
    "\n",
    "\n",
    "df_schema_string = \"order_id INT, account_number STRING, branch STRING, transaction_code STRING\"\n",
    "\n",
    "\n",
    "df2 = df1 \\\n",
    "        .select(from_csv(col(\"value\"), df_schema_string) \\\n",
    "                .alias(\"data\"), \"timestamp\")\n",
    "\n",
    "\n",
    "df3 = df2.select(\"data.*\", \"timestamp\")\n",
    "\n",
    "\n",
    "    \n",
    "df3.createOrReplaceTempView(\"data_find\");\n",
    "song_find_text = spark.sql(\"SELECT * FROM data_find\")\n",
    "data_agg_write_stream = song_find_text \\\n",
    "        .writeStream \\\n",
    "        .trigger(processingTime='5 seconds') \\\n",
    "        .outputMode(\"append\") \\\n",
    "        .option(\"truncate\", \"false\") \\\n",
    "        .format(\"memory\") \\\n",
    "        .queryName(\"test7Table\") \\\n",
    "        .start()\n",
    "\n",
    "\n",
    "\n",
    "data_agg_write_stream.awaitTermination(1)\n"
   ],
   "outputs": [
    {
     "name": "stdout",
     "output_type": "stream",
     "text": [
      "root\n",
      " |-- key: binary (nullable = true)\n",
      " |-- value: binary (nullable = true)\n",
      " |-- topic: string (nullable = true)\n",
      " |-- partition: integer (nullable = true)\n",
      " |-- offset: long (nullable = true)\n",
      " |-- timestamp: timestamp (nullable = true)\n",
      " |-- timestampType: integer (nullable = true)\n",
      "\n"
     ]
    },
    {
     "name": "stderr",
     "output_type": "stream",
     "text": [
      "[Stage 17:>                                                         (0 + 1) / 1]\r"
     ]
    },
    {
     "data": {
      "text/plain": [
       "False"
      ]
     },
     "execution_count": 15,
     "metadata": {},
     "output_type": "execute_result"
    }
   ],
   "execution_count": 15
  },
  {
   "cell_type": "code",
   "metadata": {
    "ExecuteTime": {
     "end_time": "2024-07-03T04:29:06.081769Z",
     "start_time": "2024-07-03T04:29:05.964455Z"
    }
   },
   "source": [
    "df = spark.sql(\"SELECT * FROM test7Table\")\n",
    "df.show()"
   ],
   "outputs": [
    {
     "name": "stdout",
     "output_type": "stream",
     "text": [
      "+--------+-------------------+------+----------------+--------------------+\n",
      "|order_id|     account_number|branch|transaction_code|           timestamp|\n",
      "+--------+-------------------+------+----------------+--------------------+\n",
      "|       0|02XYZXYZ10017529992|    15|              CI|2024-07-03 10:13:...|\n",
      "|       1|02XYZXYZ10017529992|    15|              CI|2024-07-03 10:13:...|\n",
      "|       2|02XYZXYZ10017517823|    15|              CI|2024-07-03 10:13:...|\n",
      "|       3|02XYZXYZ10017517823|    15|              CI|2024-07-03 10:13:...|\n",
      "|       4|02XYZXYZ10017517823|    15|              CI|2024-07-03 10:13:...|\n",
      "|       5|02XYZXYZ10017519116|    15|              CI|2024-07-03 10:13:...|\n",
      "|       6|02XYZXYZ10017519121|    15|              CI|2024-07-03 10:13:...|\n",
      "|       7|02XYZXYZ10017520752|    15|              CI|2024-07-03 10:13:...|\n",
      "|       8|02XYZXYZ10017520752|    15|              CI|2024-07-03 10:13:...|\n",
      "|       9|02XYZXYZ10017520752|    15|              CI|2024-07-03 10:13:...|\n",
      "|      10|02XYZXYZ10017555515|    15|              CI|2024-07-03 10:13:...|\n",
      "|      11|02XYZXYZ10017555612|    15|              CI|2024-07-03 10:13:...|\n",
      "|      12|02XYZXYZ10017557070|    15|               O|2024-07-03 10:13:...|\n",
      "|      13|02XYZXYZ10017557090|    15|              CI|2024-07-03 10:13:...|\n",
      "|      14|02XYZXYZ10017557096|    15|              CI|2024-07-03 10:13:...|\n",
      "|      15|02XYZXYZ10017503121|    15|              CI|2024-07-03 10:13:...|\n",
      "|      16|02XYZXYZ10017557935|    15|              CI|2024-07-03 10:13:...|\n",
      "|      17|02XYZXYZ10017557935|    15|              CI|2024-07-03 10:13:...|\n",
      "|      18|02XYZXYZ10017557936|    15|              CI|2024-07-03 10:13:...|\n",
      "|      19|02XYZXYZ10017557936|    15|              CI|2024-07-03 10:13:...|\n",
      "+--------+-------------------+------+----------------+--------------------+\n",
      "only showing top 20 rows\n",
      "\n"
     ]
    }
   ],
   "execution_count": 16
  },
  {
   "cell_type": "code",
   "metadata": {
    "ExecuteTime": {
     "end_time": "2024-07-03T04:29:16.675331Z",
     "start_time": "2024-07-03T04:29:16.624799Z"
    }
   },
   "source": [
    "df_count = df.count()\n",
    "df_count"
   ],
   "outputs": [
    {
     "data": {
      "text/plain": [
       "53"
      ]
     },
     "execution_count": 23,
     "metadata": {},
     "output_type": "execute_result"
    }
   ],
   "execution_count": 23
  },
  {
   "metadata": {},
   "cell_type": "code",
   "outputs": [],
   "execution_count": null,
   "source": ""
  }
 ],
 "metadata": {
  "kernelspec": {
   "display_name": "Python 3",
   "language": "python",
   "name": "python3"
  },
  "language_info": {
   "codemirror_mode": {
    "name": "ipython",
    "version": 3
   },
   "file_extension": ".py",
   "mimetype": "text/x-python",
   "name": "python",
   "nbconvert_exporter": "python",
   "pygments_lexer": "ipython3",
   "version": "3.7.6"
  }
 },
 "nbformat": 4,
 "nbformat_minor": 4
}
