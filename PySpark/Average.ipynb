{
 "cells": [
  {
   "cell_type": "code",
   "id": "initial_id",
   "metadata": {
    "collapsed": true,
    "ExecuteTime": {
     "end_time": "2024-05-06T03:35:25.486041Z",
     "start_time": "2024-05-06T03:35:25.484063Z"
    }
   },
   "source": [
    "import findspark\n",
    "from pyspark.sql import SparkSession\n",
    "from pyspark.sql.functions import *"
   ],
   "outputs": [],
   "execution_count": 11
  },
  {
   "metadata": {
    "ExecuteTime": {
     "end_time": "2024-05-06T03:31:27.971648Z",
     "start_time": "2024-05-06T03:31:27.969704Z"
    }
   },
   "cell_type": "code",
   "source": "findspark.init()",
   "id": "32176a53cd9c6bf3",
   "outputs": [],
   "execution_count": 4
  },
  {
   "metadata": {
    "ExecuteTime": {
     "end_time": "2024-05-06T03:31:47.268725Z",
     "start_time": "2024-05-06T03:31:44.959080Z"
    }
   },
   "cell_type": "code",
   "source": "spark = SparkSession.builder.appName('Averages').getOrCreate()",
   "id": "635239dabff3c878",
   "outputs": [
    {
     "name": "stderr",
     "output_type": "stream",
     "text": [
      "24/05/06 09:16:46 WARN Utils: Your hostname, Bisheshs-MacBook-Pro.local resolves to a loopback address: 127.0.0.1; using 10.13.163.225 instead (on interface en0)\n",
      "24/05/06 09:16:46 WARN Utils: Set SPARK_LOCAL_IP if you need to bind to another address\n",
      "Setting default log level to \"WARN\".\n",
      "To adjust logging level use sc.setLogLevel(newLevel). For SparkR, use setLogLevel(newLevel).\n",
      "24/05/06 09:16:46 WARN NativeCodeLoader: Unable to load native-hadoop library for your platform... using builtin-java classes where applicable\n"
     ]
    }
   ],
   "execution_count": 6
  },
  {
   "metadata": {
    "ExecuteTime": {
     "end_time": "2024-05-06T03:45:47.211506Z",
     "start_time": "2024-05-06T03:45:47.047399Z"
    }
   },
   "cell_type": "code",
   "source": "df = spark.read.csv('./data/fc_transaction_base.csv',header='true', inferSchema='true')",
   "id": "75ca847c5f9c9ae8",
   "outputs": [],
   "execution_count": 38
  },
  {
   "metadata": {
    "ExecuteTime": {
     "end_time": "2024-05-06T03:46:09.268165Z",
     "start_time": "2024-05-06T03:46:09.214319Z"
    }
   },
   "cell_type": "code",
   "source": [
    "df.printSchema()\n",
    "df.show(5)"
   ],
   "id": "8bf934e31449b31c",
   "outputs": [
    {
     "name": "stdout",
     "output_type": "stream",
     "text": [
      "root\n",
      " |-- tran_date: date (nullable = true)\n",
      " |-- account_number: string (nullable = true)\n",
      " |-- branch: integer (nullable = true)\n",
      " |-- product: string (nullable = true)\n",
      " |-- lcy_amount: double (nullable = true)\n",
      " |-- transaction_code: string (nullable = true)\n",
      " |-- description1: string (nullable = true)\n",
      " |-- dc_indicator: string (nullable = true)\n",
      " |-- is_salary: integer (nullable = true)\n",
      "\n",
      "+----------+-------------------+------+-------+----------+----------------+--------------------+------------+---------+\n",
      "| tran_date|     account_number|branch|product|lcy_amount|transaction_code|        description1|dc_indicator|is_salary|\n",
      "+----------+-------------------+------+-------+----------+----------------+--------------------+------------+---------+\n",
      "|2020-06-09|02XYZXYZ10017529992|    15|    SBA|   14500.0|              CI|ATM WDL /00463701...|    withdraw|        0|\n",
      "|2020-06-14|02XYZXYZ10017529992|    15|    SBA|   20000.0|              CI|ATM WDL /00463701...|    withdraw|        0|\n",
      "|2020-06-01|02XYZXYZ10017517823|    15|    SBA|    4000.0|              CI|ATM WDL /NICAV701...|    withdraw|        0|\n",
      "|2020-06-05|02XYZXYZ10017517823|    15|    SBA|     500.0|              CI|ATM WDL /NICAV701...|    withdraw|        0|\n",
      "|2020-06-12|02XYZXYZ10017517823|    15|    SBA|    5000.0|              CI|ATM WDL /NICAV701...|    withdraw|        0|\n",
      "+----------+-------------------+------+-------+----------+----------------+--------------------+------------+---------+\n",
      "only showing top 5 rows\n",
      "\n"
     ]
    }
   ],
   "execution_count": 42
  },
  {
   "metadata": {
    "ExecuteTime": {
     "end_time": "2024-05-06T03:46:06.910524Z",
     "start_time": "2024-05-06T03:46:06.903195Z"
    }
   },
   "cell_type": "code",
   "source": "df = df.withColumn(\"tran_date\", to_date(col(\"tran_date\"), \"yyyy-MM-dd\"))",
   "id": "26808ae7731db02d",
   "outputs": [],
   "execution_count": 41
  },
  {
   "metadata": {
    "ExecuteTime": {
     "end_time": "2024-05-06T03:46:29.610121Z",
     "start_time": "2024-05-06T03:46:29.602682Z"
    }
   },
   "cell_type": "code",
   "source": "df = df.withColumn(\"month\", month(col(\"tran_date\")))",
   "id": "fb4e7d9dc0596730",
   "outputs": [],
   "execution_count": 43
  },
  {
   "metadata": {
    "ExecuteTime": {
     "end_time": "2024-05-06T03:49:14.425327Z",
     "start_time": "2024-05-06T03:49:14.415973Z"
    }
   },
   "cell_type": "code",
   "source": "df1 = df.fillna(0)",
   "id": "51903f83dd5d8c3c",
   "outputs": [],
   "execution_count": 55
  },
  {
   "metadata": {
    "ExecuteTime": {
     "end_time": "2024-05-06T03:49:20.971528Z",
     "start_time": "2024-05-06T03:49:20.955878Z"
    }
   },
   "cell_type": "code",
   "source": [
    "stats_df = df1.groupBy(\"account_number\", \"month\").agg(\n",
    "    avg(\"lcy_amount\").alias(\"avg_lcy_amount\"),\n",
    "    stddev(\"lcy_amount\").alias(\"stddev_lcy_amount\"),\n",
    "    variance(\"lcy_amount\").alias(\"variance_lcy_amount\")\n",
    ")\n",
    "stats_df=stats_df.fillna(0)"
   ],
   "id": "1e61cc07a26fb7b5",
   "outputs": [],
   "execution_count": 56
  },
  {
   "metadata": {
    "ExecuteTime": {
     "end_time": "2024-05-06T03:49:57.010456Z",
     "start_time": "2024-05-06T03:49:56.842631Z"
    }
   },
   "cell_type": "code",
   "source": "stats_df.show(5)",
   "id": "1c3d313e245e0110",
   "outputs": [
    {
     "name": "stdout",
     "output_type": "stream",
     "text": [
      "+--------------------+-----+------------------+-----------------+--------------------+\n",
      "|      account_number|month|    avg_lcy_amount|stddev_lcy_amount| variance_lcy_amount|\n",
      "+--------------------+-----+------------------+-----------------+--------------------+\n",
      "| 02XYZXYZ10017500750|    6|           12677.3|9573.214008367304| 9.164642644999999E7|\n",
      "| 02XYZXYZ10017541580|    6|           47578.0|              0.0|                 0.0|\n",
      "|02XYZXYZ110017507489|    6|2897.8050000000003|5910.418552495097|3.4933047465678245E7|\n",
      "| 02XYZXYZ10017544285|    6|          5775.335|6076.997550217542| 3.692989922535001E7|\n",
      "| 02XYZXYZ10017557554|    6|           8166.29|              0.0|                 0.0|\n",
      "+--------------------+-----+------------------+-----------------+--------------------+\n",
      "only showing top 5 rows\n",
      "\n"
     ]
    }
   ],
   "execution_count": 60
  },
  {
   "metadata": {
    "ExecuteTime": {
     "end_time": "2024-05-06T03:52:24.794538Z",
     "start_time": "2024-05-06T03:52:24.777917Z"
    }
   },
   "cell_type": "code",
   "source": [
    "stats1_df = stats_df.groupBy(\"account_number\").agg(\n",
    "    avg(\"avg_lcy_amount\").alias(\"o_avg_lcy_amount\"),\n",
    "    avg(\"stddev_lcy_amount\").alias(\"o_stddev_lcy_amount\"),\n",
    "    avg(\"variance_lcy_amount\").alias(\"o_variance_lcy_amount\")\n",
    ")\n",
    "stats1_df=stats1_df.fillna(0)"
   ],
   "id": "51d92cd3ccb9bd72",
   "outputs": [],
   "execution_count": 61
  },
  {
   "metadata": {
    "ExecuteTime": {
     "end_time": "2024-05-06T03:52:32.010396Z",
     "start_time": "2024-05-06T03:52:31.774084Z"
    }
   },
   "cell_type": "code",
   "source": "stats1_df.show(10)",
   "id": "dfd2a97a71e68c14",
   "outputs": [
    {
     "name": "stdout",
     "output_type": "stream",
     "text": [
      "+-------------------+------------------+-------------------+---------------------+\n",
      "|     account_number|  o_avg_lcy_amount|o_stddev_lcy_amount|o_variance_lcy_amount|\n",
      "+-------------------+------------------+-------------------+---------------------+\n",
      "|02XYZXYZ10017544491|          5168.282| 2868.2281717247592|  2.468019853522667E7|\n",
      "|02XYZXYZ10017529992|12374.278981481482| 13360.877610924514|  1.959612875635878E8|\n",
      "|02XYZXYZ10017507450|13609.916130952382| 17873.931396962533| 3.4882907271013135E8|\n",
      "|02XYZXYZ10017534270|11508.422777777778|  8886.244229831114|  8.974810524266389E7|\n",
      "|02XYZXYZ10017272701| 85141.76018586352| 257036.99635041784| 1.654478943336487...|\n",
      "|02XYZXYZ10017287701|16931.915641025644|  39975.12286751219| 2.3108435650068364E9|\n",
      "|02XYZXYZ10017518608| 5652.844851364523|  8039.789681342617|  7.639431580287786E7|\n",
      "|02XYZXYZ10017549354| 111887.2452785409|  264850.6287276143| 1.966134121744724E11|\n",
      "|02XYZXYZ10017549474| 38520.43791005291|  70390.40730903004| 1.086996475061219...|\n",
      "|02XYZXYZ10017508748| 21941.92929271709| 36009.777259911585| 1.7387411883492596E9|\n",
      "+-------------------+------------------+-------------------+---------------------+\n",
      "only showing top 10 rows\n",
      "\n"
     ]
    }
   ],
   "execution_count": 62
  },
  {
   "metadata": {
    "ExecuteTime": {
     "end_time": "2024-05-06T03:53:10.398365Z",
     "start_time": "2024-05-06T03:53:10.299272Z"
    }
   },
   "cell_type": "code",
   "source": "df = spark.read.csv('./data/fc_account_master.csv',header='true', inferSchema='true')",
   "id": "b0dea65b254ad771",
   "outputs": [],
   "execution_count": 63
  },
  {
   "metadata": {
    "ExecuteTime": {
     "end_time": "2024-05-06T03:53:13.976564Z",
     "start_time": "2024-05-06T03:53:13.949025Z"
    }
   },
   "cell_type": "code",
   "source": "df.show(5)",
   "id": "b4ec4a7342ec892f",
   "outputs": [
    {
     "name": "stdout",
     "output_type": "stream",
     "text": [
      "+-------------------+-------------+-------+----------------+-------------+---------------+-----------+\n",
      "|     account_number|customer_code|product|product_category|acc_open_date|acc_closed_date|active_flag|\n",
      "+-------------------+-------------+-------+----------------+-------------+---------------+-----------+\n",
      "|02XYZXYZ10015592101|    KL0255921|    SBA|           SBPPS|   1999-03-10|           NULL|          0|\n",
      "|02XYZXYZ10015593701|    KL0255937|    SBA|           SBPPS|   1999-03-10|           NULL|          0|\n",
      "|02XYZXYZ10015593801|    KL0255938|    SBA|           SBPPS|   1999-03-10|           NULL|          0|\n",
      "|02XYZXYZ10015594801|    KL0255948|    SBA|           SBANU|   1999-03-22|           NULL|          0|\n",
      "|02XYZXYZ10015597601|    KL0255976|    SBA|           SBPPS|   1999-04-22|           NULL|          0|\n",
      "+-------------------+-------------+-------+----------------+-------------+---------------+-----------+\n",
      "only showing top 5 rows\n",
      "\n"
     ]
    }
   ],
   "execution_count": 64
  },
  {
   "metadata": {
    "ExecuteTime": {
     "end_time": "2024-05-06T03:54:25.002366Z",
     "start_time": "2024-05-06T03:54:24.995062Z"
    }
   },
   "cell_type": "code",
   "source": "stats2_df = stats1_df.join(df, on='account_number', how='inner')",
   "id": "225451f2c5926171",
   "outputs": [],
   "execution_count": 67
  },
  {
   "metadata": {
    "ExecuteTime": {
     "end_time": "2024-05-06T03:55:07.291186Z",
     "start_time": "2024-05-06T03:55:07.278420Z"
    }
   },
   "cell_type": "code",
   "source": "stats3_df = stats2_df.select('account_number', 'customer_code','o_avg_lcy_amount','o_stddev_lcy_amount','o_variance_lcy_amount')",
   "id": "63d5cedae2453e13",
   "outputs": [],
   "execution_count": 69
  },
  {
   "metadata": {
    "ExecuteTime": {
     "end_time": "2024-05-06T03:55:16.885793Z",
     "start_time": "2024-05-06T03:55:16.646964Z"
    }
   },
   "cell_type": "code",
   "source": "stats3_df=stats3_df.show(10)",
   "id": "44c7a0872bcea746",
   "outputs": [
    {
     "name": "stdout",
     "output_type": "stream",
     "text": [
      "+-------------------+-------------+------------------+-------------------+---------------------+\n",
      "|     account_number|customer_code|  o_avg_lcy_amount|o_stddev_lcy_amount|o_variance_lcy_amount|\n",
      "+-------------------+-------------+------------------+-------------------+---------------------+\n",
      "|02XYZXYZ10017544491|    PB2143036|          5168.282| 2868.2281717247592|  2.468019853522667E7|\n",
      "|02XYZXYZ10017529992|    PB2083592|12374.278981481482| 13360.877610924514|  1.959612875635878E8|\n",
      "|02XYZXYZ10017507450|    KL2027115|13609.916130952382| 17873.931396962533| 3.4882907271013135E8|\n",
      "|02XYZXYZ10017534270|    PB2097839|11508.422777777778|  8886.244229831114|  8.974810524266389E7|\n",
      "|02XYZXYZ10017272701|    KL2009222| 85141.76018586352| 257036.99635041784| 1.654478943336487...|\n",
      "|02XYZXYZ10017287701|    PB2075365|16931.915641025644|  39975.12286751219| 2.3108435650068364E9|\n",
      "|02XYZXYZ10017518608|    KL2054409| 5652.844851364523|  8039.789681342617|  7.639431580287786E7|\n",
      "|02XYZXYZ10017549354|    PB2169121| 111887.2452785409|  264850.6287276143| 1.966134121744724E11|\n",
      "|02XYZXYZ10017549474|    PB2170030| 38520.43791005291|  70390.40730903004| 1.086996475061219...|\n",
      "|02XYZXYZ10017508748|    KL2029591| 21941.92929271709| 36009.777259911585| 1.7387411883492596E9|\n",
      "+-------------------+-------------+------------------+-------------------+---------------------+\n",
      "only showing top 10 rows\n",
      "\n"
     ]
    }
   ],
   "execution_count": 70
  }
 ],
 "metadata": {
  "kernelspec": {
   "display_name": "Python 3",
   "language": "python",
   "name": "python3"
  },
  "language_info": {
   "codemirror_mode": {
    "name": "ipython",
    "version": 2
   },
   "file_extension": ".py",
   "mimetype": "text/x-python",
   "name": "python",
   "nbconvert_exporter": "python",
   "pygments_lexer": "ipython2",
   "version": "2.7.6"
  }
 },
 "nbformat": 4,
 "nbformat_minor": 5
}
