{
 "cells": [
  {
   "cell_type": "code",
   "id": "initial_id",
   "metadata": {
    "collapsed": true,
    "ExecuteTime": {
     "end_time": "2024-07-03T04:36:13.709179Z",
     "start_time": "2024-07-03T04:36:13.638048Z"
    }
   },
   "source": [
    "import findspark\n",
    "from pyspark.sql import SparkSession\n",
    "from pyspark.sql.functions import *"
   ],
   "outputs": [],
   "execution_count": 1
  },
  {
   "metadata": {
    "ExecuteTime": {
     "end_time": "2024-07-03T04:36:14.187871Z",
     "start_time": "2024-07-03T04:36:14.184535Z"
    }
   },
   "cell_type": "code",
   "source": "findspark.init()",
   "id": "32176a53cd9c6bf3",
   "outputs": [],
   "execution_count": 2
  },
  {
   "metadata": {
    "ExecuteTime": {
     "end_time": "2024-07-03T04:36:16.729725Z",
     "start_time": "2024-07-03T04:36:15.004501Z"
    }
   },
   "cell_type": "code",
   "source": "spark = SparkSession.builder.appName('Averages').getOrCreate()",
   "id": "635239dabff3c878",
   "outputs": [
    {
     "name": "stderr",
     "output_type": "stream",
     "text": [
      "24/07/03 10:21:15 WARN Utils: Your hostname, Bisheshs-MacBook-Pro.local resolves to a loopback address: 127.0.0.1; using 10.13.163.225 instead (on interface en0)\n",
      "24/07/03 10:21:15 WARN Utils: Set SPARK_LOCAL_IP if you need to bind to another address\n",
      "Setting default log level to \"WARN\".\n",
      "To adjust logging level use sc.setLogLevel(newLevel). For SparkR, use setLogLevel(newLevel).\n",
      "24/07/03 10:21:16 WARN NativeCodeLoader: Unable to load native-hadoop library for your platform... using builtin-java classes where applicable\n",
      "24/07/03 10:21:16 WARN Utils: Service 'SparkUI' could not bind on port 4040. Attempting port 4041.\n"
     ]
    }
   ],
   "execution_count": 3
  },
  {
   "metadata": {
    "ExecuteTime": {
     "end_time": "2024-07-03T04:36:30.404818Z",
     "start_time": "2024-07-03T04:36:27.554109Z"
    }
   },
   "cell_type": "code",
   "source": "df = spark.read.csv('../datasets/fc_transaction_base.csv',header='true', inferSchema='true')",
   "id": "75ca847c5f9c9ae8",
   "outputs": [
    {
     "name": "stderr",
     "output_type": "stream",
     "text": [
      "24/07/03 10:21:28 WARN GarbageCollectionMetrics: To enable non-built-in garbage collector(s) List(G1 Concurrent GC), users should configure it(them) to spark.eventLog.gcMetrics.youngGenerationGarbageCollectors or spark.eventLog.gcMetrics.oldGenerationGarbageCollectors\n"
     ]
    }
   ],
   "execution_count": 5
  },
  {
   "metadata": {
    "ExecuteTime": {
     "end_time": "2024-07-03T04:36:31.481179Z",
     "start_time": "2024-07-03T04:36:31.319461Z"
    }
   },
   "cell_type": "code",
   "source": [
    "df.printSchema()\n",
    "df.show(5)"
   ],
   "id": "8bf934e31449b31c",
   "outputs": [
    {
     "name": "stdout",
     "output_type": "stream",
     "text": [
      "root\n",
      " |-- tran_date: string (nullable = true)\n",
      " |-- account_number: string (nullable = true)\n",
      " |-- branch: integer (nullable = true)\n",
      " |-- product: string (nullable = true)\n",
      " |-- lcy_amount: double (nullable = true)\n",
      " |-- transaction_code: string (nullable = true)\n",
      " |-- description1: string (nullable = true)\n",
      " |-- dc_indicator: string (nullable = true)\n",
      " |-- is_salary: integer (nullable = true)\n",
      "\n",
      "+----------+-------------------+------+-------+----------+----------------+--------------------+------------+---------+\n",
      "| tran_date|     account_number|branch|product|lcy_amount|transaction_code|        description1|dc_indicator|is_salary|\n",
      "+----------+-------------------+------+-------+----------+----------------+--------------------+------------+---------+\n",
      "|09/06/2020|02XYZXYZ10017529992|    15|    SBA|   14500.0|              CI|ATM WDL /00463701...|    withdraw|        0|\n",
      "|14/06/2020|02XYZXYZ10017529992|    15|    SBA|   20000.0|              CI|ATM WDL /00463701...|    withdraw|        0|\n",
      "|01/06/2020|02XYZXYZ10017517823|    15|    SBA|    4000.0|              CI|ATM WDL /NICAV701...|    withdraw|        0|\n",
      "|05/06/2020|02XYZXYZ10017517823|    15|    SBA|     500.0|              CI|ATM WDL /NICAV701...|    withdraw|        0|\n",
      "|12/06/2020|02XYZXYZ10017517823|    15|    SBA|    5000.0|              CI|ATM WDL /NICAV701...|    withdraw|        0|\n",
      "+----------+-------------------+------+-------+----------+----------------+--------------------+------------+---------+\n",
      "only showing top 5 rows\n",
      "\n"
     ]
    }
   ],
   "execution_count": 6
  },
  {
   "metadata": {
    "ExecuteTime": {
     "end_time": "2024-07-03T04:36:32.381794Z",
     "start_time": "2024-07-03T04:36:32.366027Z"
    }
   },
   "cell_type": "code",
   "source": "df = df.withColumn(\"tran_date\", to_date(col(\"tran_date\"), \"yyyy-MM-dd\"))",
   "id": "26808ae7731db02d",
   "outputs": [],
   "execution_count": 7
  },
  {
   "metadata": {
    "ExecuteTime": {
     "end_time": "2024-07-03T04:36:33.055827Z",
     "start_time": "2024-07-03T04:36:33.042983Z"
    }
   },
   "cell_type": "code",
   "source": "df = df.withColumn(\"month\", month(col(\"tran_date\")))",
   "id": "fb4e7d9dc0596730",
   "outputs": [],
   "execution_count": 8
  },
  {
   "metadata": {
    "ExecuteTime": {
     "end_time": "2024-07-03T04:36:33.480738Z",
     "start_time": "2024-07-03T04:36:33.467055Z"
    }
   },
   "cell_type": "code",
   "source": "df1 = df.fillna(0)",
   "id": "51903f83dd5d8c3c",
   "outputs": [],
   "execution_count": 9
  },
  {
   "metadata": {
    "ExecuteTime": {
     "end_time": "2024-07-03T04:36:33.853807Z",
     "start_time": "2024-07-03T04:36:33.807588Z"
    }
   },
   "cell_type": "code",
   "source": [
    "stats_df = df1.groupBy(\"account_number\", \"month\").agg(\n",
    "    avg(\"lcy_amount\").alias(\"avg_lcy_amount\"),\n",
    "    stddev(\"lcy_amount\").alias(\"stddev_lcy_amount\"),\n",
    "    variance(\"lcy_amount\").alias(\"variance_lcy_amount\")\n",
    ")\n",
    "stats_df=stats_df.fillna(0)"
   ],
   "id": "1e61cc07a26fb7b5",
   "outputs": [],
   "execution_count": 10
  },
  {
   "metadata": {
    "ExecuteTime": {
     "end_time": "2024-07-03T04:36:35.253996Z",
     "start_time": "2024-07-03T04:36:34.319868Z"
    }
   },
   "cell_type": "code",
   "source": "stats_df.show(5)",
   "id": "1c3d313e245e0110",
   "outputs": [
    {
     "name": "stdout",
     "output_type": "stream",
     "text": [
      "+-------------------+-----+------------------+------------------+--------------------+\n",
      "|     account_number|month|    avg_lcy_amount| stddev_lcy_amount| variance_lcy_amount|\n",
      "+-------------------+-----+------------------+------------------+--------------------+\n",
      "|02XYZXYZ10017537924|    0| 4424.599428571428| 9198.405535223752| 8.461066439043497E7|\n",
      "|02XYZXYZ10017528599|    0|22662.531333333336|11968.867662633158|1.4325379312562573E8|\n",
      "|02XYZXYZ10017510834|    0| 39827.44666666666|  90745.7126763002| 8.234784369129632E9|\n",
      "|02XYZXYZ10017537222|    0| 14142.78172413793|11614.945410882749| 1.349069568977862E8|\n",
      "|02XYZXYZ10017558914|    0| 5876.409090909091| 5650.534723759255|3.1928542664409082E7|\n",
      "+-------------------+-----+------------------+------------------+--------------------+\n",
      "only showing top 5 rows\n",
      "\n"
     ]
    },
    {
     "name": "stderr",
     "output_type": "stream",
     "text": [
      "                                                                                \r"
     ]
    }
   ],
   "execution_count": 11
  },
  {
   "metadata": {
    "ExecuteTime": {
     "end_time": "2024-07-03T04:36:35.918015Z",
     "start_time": "2024-07-03T04:36:35.890755Z"
    }
   },
   "cell_type": "code",
   "source": [
    "stats1_df = stats_df.groupBy(\"account_number\").agg(\n",
    "    avg(\"avg_lcy_amount\").alias(\"o_avg_lcy_amount\"),\n",
    "    avg(\"stddev_lcy_amount\").alias(\"o_stddev_lcy_amount\"),\n",
    "    avg(\"variance_lcy_amount\").alias(\"o_variance_lcy_amount\")\n",
    ")\n",
    "stats1_df=stats1_df.fillna(0)"
   ],
   "id": "51d92cd3ccb9bd72",
   "outputs": [],
   "execution_count": 12
  },
  {
   "metadata": {
    "ExecuteTime": {
     "end_time": "2024-07-03T04:36:36.847982Z",
     "start_time": "2024-07-03T04:36:36.329114Z"
    }
   },
   "cell_type": "code",
   "source": "stats1_df.show(10)",
   "id": "dfd2a97a71e68c14",
   "outputs": [
    {
     "name": "stdout",
     "output_type": "stream",
     "text": [
      "+-------------------+------------------+-------------------+---------------------+\n",
      "|     account_number|  o_avg_lcy_amount|o_stddev_lcy_amount|o_variance_lcy_amount|\n",
      "+-------------------+------------------+-------------------+---------------------+\n",
      "|02XYZXYZ10017507450| 11457.23129032258| 13630.693254894448|   1.85795798609025E8|\n",
      "|02XYZXYZ10017287701|19466.004035087724|  55770.44472948584|  3.110342505324635E9|\n",
      "|02XYZXYZ10017534270|11464.473999999998|  9792.489620721588|  9.589285297194003E7|\n",
      "|02XYZXYZ10017518608| 5441.291666666667|   8426.50711934378|   7.10060222323514E7|\n",
      "|02XYZXYZ10017529992|11816.281851851854|  14810.80423224391| 2.1935992200585413E8|\n",
      "|02XYZXYZ10017544491|5108.7814285714285|  7026.320826725816|  4.936918436008096E7|\n",
      "|02XYZXYZ10017272701| 75566.42873684214| 384177.99371728394| 1.475927308566374...|\n",
      "|02XYZXYZ10017520808|     32186.0278125|   93144.5591676245|  8.675908902531101E9|\n",
      "|02XYZXYZ10017504738|22481.000000000004|  80203.99289133798|  6.432680475713793E9|\n",
      "|02XYZXYZ10017549474| 42707.12318181818| 114299.03496915709| 1.306426939488059...|\n",
      "+-------------------+------------------+-------------------+---------------------+\n",
      "only showing top 10 rows\n",
      "\n"
     ]
    }
   ],
   "execution_count": 13
  },
  {
   "metadata": {
    "ExecuteTime": {
     "end_time": "2024-07-03T04:36:44.320210Z",
     "start_time": "2024-07-03T04:36:44.192483Z"
    }
   },
   "cell_type": "code",
   "source": "df = spark.read.csv('../datasets/fc_account_master.csv',header='true', inferSchema='true')",
   "id": "b0dea65b254ad771",
   "outputs": [],
   "execution_count": 16
  },
  {
   "metadata": {
    "ExecuteTime": {
     "end_time": "2024-07-03T04:36:44.822744Z",
     "start_time": "2024-07-03T04:36:44.767094Z"
    }
   },
   "cell_type": "code",
   "source": "df.show(5)",
   "id": "b4ec4a7342ec892f",
   "outputs": [
    {
     "name": "stdout",
     "output_type": "stream",
     "text": [
      "+-------------------+-------------+-------+----------------+-------------+---------------+-----------+\n",
      "|     account_number|customer_code|product|product_category|acc_open_date|acc_closed_date|active_flag|\n",
      "+-------------------+-------------+-------+----------------+-------------+---------------+-----------+\n",
      "|02XYZXYZ10015592101|    KL0255921|    SBA|           SBPPS|   1999-03-10|           NULL|          0|\n",
      "|02XYZXYZ10015593701|    KL0255937|    SBA|           SBPPS|   1999-03-10|           NULL|          0|\n",
      "|02XYZXYZ10015593801|    KL0255938|    SBA|           SBPPS|   1999-03-10|           NULL|          0|\n",
      "|02XYZXYZ10015594801|    KL0255948|    SBA|           SBANU|   1999-03-22|           NULL|          0|\n",
      "|02XYZXYZ10015597601|    KL0255976|    SBA|           SBPPS|   1999-04-22|           NULL|          0|\n",
      "+-------------------+-------------+-------+----------------+-------------+---------------+-----------+\n",
      "only showing top 5 rows\n",
      "\n"
     ]
    }
   ],
   "execution_count": 17
  },
  {
   "metadata": {
    "ExecuteTime": {
     "end_time": "2024-07-03T04:36:45.204310Z",
     "start_time": "2024-07-03T04:36:45.188408Z"
    }
   },
   "cell_type": "code",
   "source": "stats2_df = stats1_df.join(df, on='account_number', how='inner')",
   "id": "225451f2c5926171",
   "outputs": [],
   "execution_count": 18
  },
  {
   "metadata": {
    "ExecuteTime": {
     "end_time": "2024-07-03T04:36:45.556218Z",
     "start_time": "2024-07-03T04:36:45.545404Z"
    }
   },
   "cell_type": "code",
   "source": "stats3_df = stats2_df.select('account_number', 'customer_code','o_avg_lcy_amount','o_stddev_lcy_amount','o_variance_lcy_amount')",
   "id": "63d5cedae2453e13",
   "outputs": [],
   "execution_count": 19
  },
  {
   "metadata": {
    "ExecuteTime": {
     "end_time": "2024-07-03T04:36:46.527036Z",
     "start_time": "2024-07-03T04:36:45.963879Z"
    }
   },
   "cell_type": "code",
   "source": "stats3_df=stats3_df.show(10)",
   "id": "44c7a0872bcea746",
   "outputs": [
    {
     "name": "stdout",
     "output_type": "stream",
     "text": [
      "+-------------------+-------------+------------------+-------------------+---------------------+\n",
      "|     account_number|customer_code|  o_avg_lcy_amount|o_stddev_lcy_amount|o_variance_lcy_amount|\n",
      "+-------------------+-------------+------------------+-------------------+---------------------+\n",
      "|02XYZXYZ10017507450|    KL2027115| 11457.23129032258| 13630.693254894448|   1.85795798609025E8|\n",
      "|02XYZXYZ10017287701|    PB2075365|19466.004035087724|  55770.44472948584|  3.110342505324635E9|\n",
      "|02XYZXYZ10017534270|    PB2097839|11464.473999999998|  9792.489620721588|  9.589285297194003E7|\n",
      "|02XYZXYZ10017518608|    KL2054409| 5441.291666666667|   8426.50711934378|   7.10060222323514E7|\n",
      "|02XYZXYZ10017529992|    PB2083592|11816.281851851854|  14810.80423224391| 2.1935992200585413E8|\n",
      "|02XYZXYZ10017544491|    PB2143036|5108.7814285714285|  7026.320826725816|  4.936918436008096E7|\n",
      "|02XYZXYZ10017272701|    KL2009222| 75566.42873684214| 384177.99371728394| 1.475927308566374...|\n",
      "|02XYZXYZ10017520808|    PB2060063|     32186.0278125|   93144.5591676245|  8.675908902531101E9|\n",
      "|02XYZXYZ10017504738|    KL2021008|22481.000000000004|  80203.99289133798|  6.432680475713793E9|\n",
      "|02XYZXYZ10017549474|    PB2170030| 42707.12318181818| 114299.03496915709| 1.306426939488059...|\n",
      "+-------------------+-------------+------------------+-------------------+---------------------+\n",
      "only showing top 10 rows\n",
      "\n"
     ]
    }
   ],
   "execution_count": 20
  }
 ],
 "metadata": {
  "kernelspec": {
   "display_name": "Python 3",
   "language": "python",
   "name": "python3"
  },
  "language_info": {
   "codemirror_mode": {
    "name": "ipython",
    "version": 2
   },
   "file_extension": ".py",
   "mimetype": "text/x-python",
   "name": "python",
   "nbconvert_exporter": "python",
   "pygments_lexer": "ipython2",
   "version": "2.7.6"
  }
 },
 "nbformat": 4,
 "nbformat_minor": 5
}
